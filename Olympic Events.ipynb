{
 "cells": [
  {
   "cell_type": "markdown",
   "id": "4e2855ae",
   "metadata": {},
   "source": [
    "# Olympic Events"
   ]
  },
  {
   "cell_type": "markdown",
   "id": "88e5e055",
   "metadata": {},
   "source": [
    "*Author: Henry Truong*  \n",
    "*Date: 2021-11-18*"
   ]
  },
  {
   "cell_type": "markdown",
   "id": "17f03186",
   "metadata": {},
   "source": [
    "## Introduction"
   ]
  },
  {
   "cell_type": "markdown",
   "id": "17c21259",
   "metadata": {},
   "source": [
    "### Synopsis"
   ]
  },
  {
   "cell_type": "markdown",
   "id": "7ad3d1d4",
   "metadata": {},
   "source": [
    "The purpose of this study is to understand and examine the dataset on ***Athletes and Results of 120 Years of Olympic History*** using the data analysis approach. A large part of tools applied in this study include ***Python*** and ***SQL*** to get and clean the data, to make queries to extract a certain piece of information of interest and to create visualization of the extracted data."
   ]
  },
  {
   "cell_type": "markdown",
   "id": "b90c1b8a",
   "metadata": {},
   "source": [
    "### Data"
   ]
  },
  {
   "cell_type": "markdown",
   "id": "abd1a5f3",
   "metadata": {},
   "source": [
    "There are 3 csv files used in this study:\n",
    "1. `athlete_events.csv`\n",
    "2. `noc_regions.csv`\n",
    "3. `city_regions.csv`"
   ]
  },
  {
   "cell_type": "markdown",
   "id": "5442b570",
   "metadata": {},
   "source": [
    "The first two csv files can be downloaded from Kaggle using [this link](https://www.kaggle.com/heesoo37/120-years-of-olympic-history-athletes-and-results). The metadata for these two files can also be found on this site."
   ]
  },
  {
   "cell_type": "markdown",
   "id": "a7144052",
   "metadata": {},
   "source": [
    "The third csv file is created on my own and this file can be used to figure out if there is home advantages for the region hosting the Olympic event. This csv file contains 2 columns:\n",
    "1. `City` column: The city of the Olympic event (which is present in `athlete_events.csv`)\n",
    "2. `Host` column: The city's host region (which is not present in `athlete_events.csv`) "
   ]
  },
  {
   "cell_type": "markdown",
   "id": "1d97b0af",
   "metadata": {},
   "source": [
    "### Content"
   ]
  },
  {
   "cell_type": "markdown",
   "id": "a5979092",
   "metadata": {},
   "source": [
    "The study has 3 main parts listed as following"
   ]
  },
  {
   "cell_type": "markdown",
   "id": "ac4eacbe",
   "metadata": {},
   "source": [
    "1. Having Questions to Answer\n",
    "2. Getting and Cleaning Data\n",
    "3. Analyzing and Visualizing Data"
   ]
  },
  {
   "cell_type": "markdown",
   "id": "6302f0bf",
   "metadata": {},
   "source": [
    "## Having Questions to Answer"
   ]
  },
  {
   "cell_type": "markdown",
   "id": "ac94bfdf",
   "metadata": {},
   "source": [
    "\n",
    "### 1. Questions related to regions and number of medals  \n",
    "   1.1. Which region achieved most medals each year?  \n",
    "   1.2. Which region achieved most Gold medals each year?\n",
    "### 2. Questions related to athletes and number of medals  \n",
    "   2.1. Which athlete achieved most medals?  \n",
    "   2.2. Which athlete achieved most Gold medals?  \n",
    "   2.3. Breakdown of medals of athletes with most medals  \n",
    "   2.4. Is there any athlete who won medals in different sports?\n",
    "### 3. Questions related to age/weight/height and number of medals?  \n",
    "   3.1. In which age/weight/height range did athletes win medals?  \n",
    "   3.2. What sports did athletes at low-extreme of age/weight/height range win?  \n",
    "   3.3. What sports did athletes at high-extreme of age/weight/height range win?  \n",
    "   3.4. Relationship of Weight and Height of medalists\n",
    "### 4. Questions related to regions and number of events that regions participated in  \n",
    "   4.1. Which region partcipated in highest number of events?  \n",
    "   4.2. Relationship between number of events and number of medals\n",
    "### 5. Questions related to genders and number of events that athletes participated in  \n",
    "   5.1. Is there any change in gender trend?  \n",
    "   5.2. What sport were females/males dominant in?"
   ]
  },
  {
   "cell_type": "markdown",
   "id": "41a645b7",
   "metadata": {},
   "source": [
    "## Getting and Cleaning Data"
   ]
  },
  {
   "cell_type": "markdown",
   "id": "5488a703",
   "metadata": {},
   "source": [
    "### 1. Import libraries"
   ]
  },
  {
   "cell_type": "code",
   "execution_count": 1,
   "id": "e349a2e6",
   "metadata": {},
   "outputs": [],
   "source": [
    "import pandas as pd\n",
    "import numpy as np\n",
    "import matplotlib \n",
    "import matplotlib.pyplot as plt\n",
    "import seaborn as sns\n",
    "from pandasql import sqldf"
   ]
  },
  {
   "cell_type": "markdown",
   "id": "ccfcd832",
   "metadata": {},
   "source": [
    "### 2. Set up display options"
   ]
  },
  {
   "cell_type": "markdown",
   "id": "7d70baf1",
   "metadata": {},
   "source": [
    "Display options of `pandas`"
   ]
  },
  {
   "cell_type": "code",
   "execution_count": 2,
   "id": "f11469ed",
   "metadata": {},
   "outputs": [],
   "source": [
    "pd.set_option('display.max_rows', 20)\n",
    "pd.set_option('display.max_colwidth', None)"
   ]
  },
  {
   "cell_type": "markdown",
   "id": "16eeb57e",
   "metadata": {},
   "source": [
    "Display options of `seaborn` and `matplotlib`"
   ]
  },
  {
   "cell_type": "code",
   "execution_count": 3,
   "id": "5ee26d19",
   "metadata": {},
   "outputs": [],
   "source": [
    "sns.set_style('darkgrid')\n",
    "matplotlib.rcParams['font.size'] = 14\n",
    "matplotlib.rcParams['figure.figsize'] = (9, 5)\n",
    "matplotlib.rcParams['figure.facecolor'] = '#00000000'"
   ]
  },
  {
   "cell_type": "markdown",
   "id": "a2ca8f10",
   "metadata": {},
   "source": [
    "### 3. Load data"
   ]
  },
  {
   "cell_type": "code",
   "execution_count": 4,
   "id": "2742762b",
   "metadata": {},
   "outputs": [],
   "source": [
    "df_athlete_events = pd.read_csv('athlete_events.csv')\n",
    "df_noc_regions = pd.read_csv('noc_regions.csv')\n",
    "df_city_regions = pd.read_csv('city_regions.csv')"
   ]
  },
  {
   "cell_type": "markdown",
   "id": "77864ff1",
   "metadata": {},
   "source": [
    "### 4. Understand data"
   ]
  },
  {
   "cell_type": "markdown",
   "id": "1eb59957",
   "metadata": {},
   "source": [
    "The first 10 rows of the 3 above dataframes will be shown\n",
    "1. `df_athlete_events` data\n",
    "2. `df_noc_regions` data\n",
    "3. `df_city_regions` data"
   ]
  },
  {
   "cell_type": "code",
   "execution_count": 6,
   "id": "bde67688",
   "metadata": {},
   "outputs": [
    {
     "data": {
      "text/html": [
       "<div>\n",
       "<style scoped>\n",
       "    .dataframe tbody tr th:only-of-type {\n",
       "        vertical-align: middle;\n",
       "    }\n",
       "\n",
       "    .dataframe tbody tr th {\n",
       "        vertical-align: top;\n",
       "    }\n",
       "\n",
       "    .dataframe thead th {\n",
       "        text-align: right;\n",
       "    }\n",
       "</style>\n",
       "<table border=\"1\" class=\"dataframe\">\n",
       "  <thead>\n",
       "    <tr style=\"text-align: right;\">\n",
       "      <th></th>\n",
       "      <th>ID</th>\n",
       "      <th>Name</th>\n",
       "      <th>Sex</th>\n",
       "      <th>Age</th>\n",
       "      <th>Height</th>\n",
       "      <th>Weight</th>\n",
       "      <th>Team</th>\n",
       "      <th>NOC</th>\n",
       "      <th>Games</th>\n",
       "      <th>Year</th>\n",
       "      <th>Season</th>\n",
       "      <th>City</th>\n",
       "      <th>Sport</th>\n",
       "      <th>Event</th>\n",
       "      <th>Medal</th>\n",
       "    </tr>\n",
       "  </thead>\n",
       "  <tbody>\n",
       "    <tr>\n",
       "      <th>0</th>\n",
       "      <td>1</td>\n",
       "      <td>A Dijiang</td>\n",
       "      <td>M</td>\n",
       "      <td>24.0</td>\n",
       "      <td>180.0</td>\n",
       "      <td>80.0</td>\n",
       "      <td>China</td>\n",
       "      <td>CHN</td>\n",
       "      <td>1992 Summer</td>\n",
       "      <td>1992</td>\n",
       "      <td>Summer</td>\n",
       "      <td>Barcelona</td>\n",
       "      <td>Basketball</td>\n",
       "      <td>Basketball Men's Basketball</td>\n",
       "      <td>NaN</td>\n",
       "    </tr>\n",
       "    <tr>\n",
       "      <th>1</th>\n",
       "      <td>2</td>\n",
       "      <td>A Lamusi</td>\n",
       "      <td>M</td>\n",
       "      <td>23.0</td>\n",
       "      <td>170.0</td>\n",
       "      <td>60.0</td>\n",
       "      <td>China</td>\n",
       "      <td>CHN</td>\n",
       "      <td>2012 Summer</td>\n",
       "      <td>2012</td>\n",
       "      <td>Summer</td>\n",
       "      <td>London</td>\n",
       "      <td>Judo</td>\n",
       "      <td>Judo Men's Extra-Lightweight</td>\n",
       "      <td>NaN</td>\n",
       "    </tr>\n",
       "    <tr>\n",
       "      <th>2</th>\n",
       "      <td>3</td>\n",
       "      <td>Gunnar Nielsen Aaby</td>\n",
       "      <td>M</td>\n",
       "      <td>24.0</td>\n",
       "      <td>NaN</td>\n",
       "      <td>NaN</td>\n",
       "      <td>Denmark</td>\n",
       "      <td>DEN</td>\n",
       "      <td>1920 Summer</td>\n",
       "      <td>1920</td>\n",
       "      <td>Summer</td>\n",
       "      <td>Antwerpen</td>\n",
       "      <td>Football</td>\n",
       "      <td>Football Men's Football</td>\n",
       "      <td>NaN</td>\n",
       "    </tr>\n",
       "    <tr>\n",
       "      <th>3</th>\n",
       "      <td>4</td>\n",
       "      <td>Edgar Lindenau Aabye</td>\n",
       "      <td>M</td>\n",
       "      <td>34.0</td>\n",
       "      <td>NaN</td>\n",
       "      <td>NaN</td>\n",
       "      <td>Denmark/Sweden</td>\n",
       "      <td>DEN</td>\n",
       "      <td>1900 Summer</td>\n",
       "      <td>1900</td>\n",
       "      <td>Summer</td>\n",
       "      <td>Paris</td>\n",
       "      <td>Tug-Of-War</td>\n",
       "      <td>Tug-Of-War Men's Tug-Of-War</td>\n",
       "      <td>Gold</td>\n",
       "    </tr>\n",
       "    <tr>\n",
       "      <th>4</th>\n",
       "      <td>5</td>\n",
       "      <td>Christine Jacoba Aaftink</td>\n",
       "      <td>F</td>\n",
       "      <td>21.0</td>\n",
       "      <td>185.0</td>\n",
       "      <td>82.0</td>\n",
       "      <td>Netherlands</td>\n",
       "      <td>NED</td>\n",
       "      <td>1988 Winter</td>\n",
       "      <td>1988</td>\n",
       "      <td>Winter</td>\n",
       "      <td>Calgary</td>\n",
       "      <td>Speed Skating</td>\n",
       "      <td>Speed Skating Women's 500 metres</td>\n",
       "      <td>NaN</td>\n",
       "    </tr>\n",
       "    <tr>\n",
       "      <th>5</th>\n",
       "      <td>5</td>\n",
       "      <td>Christine Jacoba Aaftink</td>\n",
       "      <td>F</td>\n",
       "      <td>21.0</td>\n",
       "      <td>185.0</td>\n",
       "      <td>82.0</td>\n",
       "      <td>Netherlands</td>\n",
       "      <td>NED</td>\n",
       "      <td>1988 Winter</td>\n",
       "      <td>1988</td>\n",
       "      <td>Winter</td>\n",
       "      <td>Calgary</td>\n",
       "      <td>Speed Skating</td>\n",
       "      <td>Speed Skating Women's 1,000 metres</td>\n",
       "      <td>NaN</td>\n",
       "    </tr>\n",
       "    <tr>\n",
       "      <th>6</th>\n",
       "      <td>5</td>\n",
       "      <td>Christine Jacoba Aaftink</td>\n",
       "      <td>F</td>\n",
       "      <td>25.0</td>\n",
       "      <td>185.0</td>\n",
       "      <td>82.0</td>\n",
       "      <td>Netherlands</td>\n",
       "      <td>NED</td>\n",
       "      <td>1992 Winter</td>\n",
       "      <td>1992</td>\n",
       "      <td>Winter</td>\n",
       "      <td>Albertville</td>\n",
       "      <td>Speed Skating</td>\n",
       "      <td>Speed Skating Women's 500 metres</td>\n",
       "      <td>NaN</td>\n",
       "    </tr>\n",
       "    <tr>\n",
       "      <th>7</th>\n",
       "      <td>5</td>\n",
       "      <td>Christine Jacoba Aaftink</td>\n",
       "      <td>F</td>\n",
       "      <td>25.0</td>\n",
       "      <td>185.0</td>\n",
       "      <td>82.0</td>\n",
       "      <td>Netherlands</td>\n",
       "      <td>NED</td>\n",
       "      <td>1992 Winter</td>\n",
       "      <td>1992</td>\n",
       "      <td>Winter</td>\n",
       "      <td>Albertville</td>\n",
       "      <td>Speed Skating</td>\n",
       "      <td>Speed Skating Women's 1,000 metres</td>\n",
       "      <td>NaN</td>\n",
       "    </tr>\n",
       "    <tr>\n",
       "      <th>8</th>\n",
       "      <td>5</td>\n",
       "      <td>Christine Jacoba Aaftink</td>\n",
       "      <td>F</td>\n",
       "      <td>27.0</td>\n",
       "      <td>185.0</td>\n",
       "      <td>82.0</td>\n",
       "      <td>Netherlands</td>\n",
       "      <td>NED</td>\n",
       "      <td>1994 Winter</td>\n",
       "      <td>1994</td>\n",
       "      <td>Winter</td>\n",
       "      <td>Lillehammer</td>\n",
       "      <td>Speed Skating</td>\n",
       "      <td>Speed Skating Women's 500 metres</td>\n",
       "      <td>NaN</td>\n",
       "    </tr>\n",
       "    <tr>\n",
       "      <th>9</th>\n",
       "      <td>5</td>\n",
       "      <td>Christine Jacoba Aaftink</td>\n",
       "      <td>F</td>\n",
       "      <td>27.0</td>\n",
       "      <td>185.0</td>\n",
       "      <td>82.0</td>\n",
       "      <td>Netherlands</td>\n",
       "      <td>NED</td>\n",
       "      <td>1994 Winter</td>\n",
       "      <td>1994</td>\n",
       "      <td>Winter</td>\n",
       "      <td>Lillehammer</td>\n",
       "      <td>Speed Skating</td>\n",
       "      <td>Speed Skating Women's 1,000 metres</td>\n",
       "      <td>NaN</td>\n",
       "    </tr>\n",
       "  </tbody>\n",
       "</table>\n",
       "</div>"
      ],
      "text/plain": [
       "   ID                      Name Sex   Age  Height  Weight            Team  \\\n",
       "0   1                 A Dijiang   M  24.0   180.0    80.0           China   \n",
       "1   2                  A Lamusi   M  23.0   170.0    60.0           China   \n",
       "2   3       Gunnar Nielsen Aaby   M  24.0     NaN     NaN         Denmark   \n",
       "3   4      Edgar Lindenau Aabye   M  34.0     NaN     NaN  Denmark/Sweden   \n",
       "4   5  Christine Jacoba Aaftink   F  21.0   185.0    82.0     Netherlands   \n",
       "5   5  Christine Jacoba Aaftink   F  21.0   185.0    82.0     Netherlands   \n",
       "6   5  Christine Jacoba Aaftink   F  25.0   185.0    82.0     Netherlands   \n",
       "7   5  Christine Jacoba Aaftink   F  25.0   185.0    82.0     Netherlands   \n",
       "8   5  Christine Jacoba Aaftink   F  27.0   185.0    82.0     Netherlands   \n",
       "9   5  Christine Jacoba Aaftink   F  27.0   185.0    82.0     Netherlands   \n",
       "\n",
       "   NOC        Games  Year  Season         City          Sport  \\\n",
       "0  CHN  1992 Summer  1992  Summer    Barcelona     Basketball   \n",
       "1  CHN  2012 Summer  2012  Summer       London           Judo   \n",
       "2  DEN  1920 Summer  1920  Summer    Antwerpen       Football   \n",
       "3  DEN  1900 Summer  1900  Summer        Paris     Tug-Of-War   \n",
       "4  NED  1988 Winter  1988  Winter      Calgary  Speed Skating   \n",
       "5  NED  1988 Winter  1988  Winter      Calgary  Speed Skating   \n",
       "6  NED  1992 Winter  1992  Winter  Albertville  Speed Skating   \n",
       "7  NED  1992 Winter  1992  Winter  Albertville  Speed Skating   \n",
       "8  NED  1994 Winter  1994  Winter  Lillehammer  Speed Skating   \n",
       "9  NED  1994 Winter  1994  Winter  Lillehammer  Speed Skating   \n",
       "\n",
       "                                Event Medal  \n",
       "0         Basketball Men's Basketball   NaN  \n",
       "1        Judo Men's Extra-Lightweight   NaN  \n",
       "2             Football Men's Football   NaN  \n",
       "3         Tug-Of-War Men's Tug-Of-War  Gold  \n",
       "4    Speed Skating Women's 500 metres   NaN  \n",
       "5  Speed Skating Women's 1,000 metres   NaN  \n",
       "6    Speed Skating Women's 500 metres   NaN  \n",
       "7  Speed Skating Women's 1,000 metres   NaN  \n",
       "8    Speed Skating Women's 500 metres   NaN  \n",
       "9  Speed Skating Women's 1,000 metres   NaN  "
      ]
     },
     "execution_count": 6,
     "metadata": {},
     "output_type": "execute_result"
    }
   ],
   "source": [
    "df_athlete_events.head(10)"
   ]
  },
  {
   "cell_type": "code",
   "execution_count": 7,
   "id": "c230ae78",
   "metadata": {},
   "outputs": [
    {
     "data": {
      "text/html": [
       "<div>\n",
       "<style scoped>\n",
       "    .dataframe tbody tr th:only-of-type {\n",
       "        vertical-align: middle;\n",
       "    }\n",
       "\n",
       "    .dataframe tbody tr th {\n",
       "        vertical-align: top;\n",
       "    }\n",
       "\n",
       "    .dataframe thead th {\n",
       "        text-align: right;\n",
       "    }\n",
       "</style>\n",
       "<table border=\"1\" class=\"dataframe\">\n",
       "  <thead>\n",
       "    <tr style=\"text-align: right;\">\n",
       "      <th></th>\n",
       "      <th>NOC</th>\n",
       "      <th>region</th>\n",
       "      <th>notes</th>\n",
       "    </tr>\n",
       "  </thead>\n",
       "  <tbody>\n",
       "    <tr>\n",
       "      <th>0</th>\n",
       "      <td>AFG</td>\n",
       "      <td>Afghanistan</td>\n",
       "      <td>NaN</td>\n",
       "    </tr>\n",
       "    <tr>\n",
       "      <th>1</th>\n",
       "      <td>AHO</td>\n",
       "      <td>Curacao</td>\n",
       "      <td>Netherlands Antilles</td>\n",
       "    </tr>\n",
       "    <tr>\n",
       "      <th>2</th>\n",
       "      <td>ALB</td>\n",
       "      <td>Albania</td>\n",
       "      <td>NaN</td>\n",
       "    </tr>\n",
       "    <tr>\n",
       "      <th>3</th>\n",
       "      <td>ALG</td>\n",
       "      <td>Algeria</td>\n",
       "      <td>NaN</td>\n",
       "    </tr>\n",
       "    <tr>\n",
       "      <th>4</th>\n",
       "      <td>AND</td>\n",
       "      <td>Andorra</td>\n",
       "      <td>NaN</td>\n",
       "    </tr>\n",
       "    <tr>\n",
       "      <th>5</th>\n",
       "      <td>ANG</td>\n",
       "      <td>Angola</td>\n",
       "      <td>NaN</td>\n",
       "    </tr>\n",
       "    <tr>\n",
       "      <th>6</th>\n",
       "      <td>ANT</td>\n",
       "      <td>Antigua</td>\n",
       "      <td>Antigua and Barbuda</td>\n",
       "    </tr>\n",
       "    <tr>\n",
       "      <th>7</th>\n",
       "      <td>ANZ</td>\n",
       "      <td>Australia</td>\n",
       "      <td>Australasia</td>\n",
       "    </tr>\n",
       "    <tr>\n",
       "      <th>8</th>\n",
       "      <td>ARG</td>\n",
       "      <td>Argentina</td>\n",
       "      <td>NaN</td>\n",
       "    </tr>\n",
       "    <tr>\n",
       "      <th>9</th>\n",
       "      <td>ARM</td>\n",
       "      <td>Armenia</td>\n",
       "      <td>NaN</td>\n",
       "    </tr>\n",
       "  </tbody>\n",
       "</table>\n",
       "</div>"
      ],
      "text/plain": [
       "   NOC       region                 notes\n",
       "0  AFG  Afghanistan                   NaN\n",
       "1  AHO      Curacao  Netherlands Antilles\n",
       "2  ALB      Albania                   NaN\n",
       "3  ALG      Algeria                   NaN\n",
       "4  AND      Andorra                   NaN\n",
       "5  ANG       Angola                   NaN\n",
       "6  ANT      Antigua   Antigua and Barbuda\n",
       "7  ANZ    Australia           Australasia\n",
       "8  ARG    Argentina                   NaN\n",
       "9  ARM      Armenia                   NaN"
      ]
     },
     "execution_count": 7,
     "metadata": {},
     "output_type": "execute_result"
    }
   ],
   "source": [
    "df_noc_regions.head(10)"
   ]
  },
  {
   "cell_type": "code",
   "execution_count": 8,
   "id": "7f83c0f5",
   "metadata": {},
   "outputs": [
    {
     "data": {
      "text/html": [
       "<div>\n",
       "<style scoped>\n",
       "    .dataframe tbody tr th:only-of-type {\n",
       "        vertical-align: middle;\n",
       "    }\n",
       "\n",
       "    .dataframe tbody tr th {\n",
       "        vertical-align: top;\n",
       "    }\n",
       "\n",
       "    .dataframe thead th {\n",
       "        text-align: right;\n",
       "    }\n",
       "</style>\n",
       "<table border=\"1\" class=\"dataframe\">\n",
       "  <thead>\n",
       "    <tr style=\"text-align: right;\">\n",
       "      <th></th>\n",
       "      <th>City</th>\n",
       "      <th>Host</th>\n",
       "    </tr>\n",
       "  </thead>\n",
       "  <tbody>\n",
       "    <tr>\n",
       "      <th>0</th>\n",
       "      <td>Albertville</td>\n",
       "      <td>France</td>\n",
       "    </tr>\n",
       "    <tr>\n",
       "      <th>1</th>\n",
       "      <td>Amsterdam</td>\n",
       "      <td>Netherlands</td>\n",
       "    </tr>\n",
       "    <tr>\n",
       "      <th>2</th>\n",
       "      <td>Antwerpen</td>\n",
       "      <td>Belgium</td>\n",
       "    </tr>\n",
       "    <tr>\n",
       "      <th>3</th>\n",
       "      <td>Athina</td>\n",
       "      <td>Greece</td>\n",
       "    </tr>\n",
       "    <tr>\n",
       "      <th>4</th>\n",
       "      <td>Atlanta</td>\n",
       "      <td>USA</td>\n",
       "    </tr>\n",
       "    <tr>\n",
       "      <th>5</th>\n",
       "      <td>Barcelona</td>\n",
       "      <td>Spain</td>\n",
       "    </tr>\n",
       "    <tr>\n",
       "      <th>6</th>\n",
       "      <td>Beijing</td>\n",
       "      <td>China</td>\n",
       "    </tr>\n",
       "    <tr>\n",
       "      <th>7</th>\n",
       "      <td>Berlin</td>\n",
       "      <td>Germany</td>\n",
       "    </tr>\n",
       "    <tr>\n",
       "      <th>8</th>\n",
       "      <td>Calgary</td>\n",
       "      <td>Canada</td>\n",
       "    </tr>\n",
       "    <tr>\n",
       "      <th>9</th>\n",
       "      <td>Chamonix</td>\n",
       "      <td>France</td>\n",
       "    </tr>\n",
       "  </tbody>\n",
       "</table>\n",
       "</div>"
      ],
      "text/plain": [
       "          City         Host\n",
       "0  Albertville       France\n",
       "1    Amsterdam  Netherlands\n",
       "2    Antwerpen      Belgium\n",
       "3       Athina       Greece\n",
       "4      Atlanta          USA\n",
       "5    Barcelona        Spain\n",
       "6      Beijing        China\n",
       "7       Berlin      Germany\n",
       "8      Calgary       Canada\n",
       "9     Chamonix       France"
      ]
     },
     "execution_count": 8,
     "metadata": {},
     "output_type": "execute_result"
    }
   ],
   "source": [
    "df_city_regions.head(10)"
   ]
  },
  {
   "cell_type": "markdown",
   "id": "d1683821",
   "metadata": {},
   "source": [
    "### 5. Clean data"
   ]
  },
  {
   "cell_type": "markdown",
   "id": "c07093de",
   "metadata": {},
   "source": [
    "There are 2 main steps in cleaning data:\n",
    "1. Checking if problems are present in the data  \n",
    "    1.1. Data types  \n",
    "    1.2. NULL values  \n",
    "    1.3. Duplicated values\n",
    "2. Processing the data"
   ]
  },
  {
   "cell_type": "markdown",
   "id": "fbce6287",
   "metadata": {},
   "source": [
    "#### 5.1. For `df_athlete_events` dataframe:"
   ]
  },
  {
   "cell_type": "markdown",
   "id": "5667977e",
   "metadata": {},
   "source": [
    "Check data types and NULL values"
   ]
  },
  {
   "cell_type": "code",
   "execution_count": 11,
   "id": "c1be883d",
   "metadata": {},
   "outputs": [
    {
     "name": "stdout",
     "output_type": "stream",
     "text": [
      "<class 'pandas.core.frame.DataFrame'>\n",
      "RangeIndex: 271116 entries, 0 to 271115\n",
      "Data columns (total 15 columns):\n",
      " #   Column  Non-Null Count   Dtype  \n",
      "---  ------  --------------   -----  \n",
      " 0   ID      271116 non-null  int64  \n",
      " 1   Name    271116 non-null  object \n",
      " 2   Sex     271116 non-null  object \n",
      " 3   Age     261642 non-null  float64\n",
      " 4   Height  210945 non-null  float64\n",
      " 5   Weight  208241 non-null  float64\n",
      " 6   Team    271116 non-null  object \n",
      " 7   NOC     271116 non-null  object \n",
      " 8   Games   271116 non-null  object \n",
      " 9   Year    271116 non-null  int64  \n",
      " 10  Season  271116 non-null  object \n",
      " 11  City    271116 non-null  object \n",
      " 12  Sport   271116 non-null  object \n",
      " 13  Event   271116 non-null  object \n",
      " 14  Medal   39783 non-null   object \n",
      "dtypes: float64(3), int64(2), object(10)\n",
      "memory usage: 31.0+ MB\n"
     ]
    }
   ],
   "source": [
    "df_athlete_events.info()"
   ]
  },
  {
   "cell_type": "markdown",
   "id": "cc2ed2d6",
   "metadata": {},
   "source": [
    "Check duplicated rows"
   ]
  },
  {
   "cell_type": "code",
   "execution_count": 12,
   "id": "b7e6f4ef",
   "metadata": {},
   "outputs": [
    {
     "data": {
      "text/plain": [
       "True"
      ]
     },
     "execution_count": 12,
     "metadata": {},
     "output_type": "execute_result"
    }
   ],
   "source": [
    "any(df_athlete_events.duplicated())"
   ]
  },
  {
   "cell_type": "markdown",
   "id": "987566a3",
   "metadata": {},
   "source": [
    "***Comments:***  \n",
    "1. Data type: Data type of `Age` column can be changed to `int`\n",
    "2. NULL values: 4 columns have NULL values:  \n",
    "    2.1. `Age`: NULL values can be replaced by `0`  \n",
    "    2.2. `Weight`: NULL values can be replaced by `0`  \n",
    "    2.3. `Height`: NULL values can be replaced by `0`  \n",
    "    2.4. `Medal`: NULL values can be replaced by `None\n",
    "3. Duplicated values: There are duplicated rows"
   ]
  },
  {
   "cell_type": "markdown",
   "id": "ce23ca11",
   "metadata": {},
   "source": [
    "Process data"
   ]
  },
  {
   "cell_type": "code",
   "execution_count": 14,
   "id": "96a644b1",
   "metadata": {},
   "outputs": [],
   "source": [
    "df_athlete_events[['Age', 'Weight', 'Height']] = df_athlete_events[['Age', 'Weight', 'Height']].fillna(0)\n",
    "df_athlete_events[['Medal']] = df_athlete_events[['Medal']].fillna('None')\n",
    "df_athlete_events.Age = df_athlete_events.Age.astype('int')\n",
    "df_athlete_events.drop_duplicates(inplace=True)"
   ]
  },
  {
   "cell_type": "markdown",
   "id": "3d37b30f",
   "metadata": {},
   "source": [
    "#### 5.2. For `df_noc_regions` data"
   ]
  },
  {
   "cell_type": "markdown",
   "id": "f716eaec",
   "metadata": {},
   "source": [
    "Check data types and NULL values"
   ]
  },
  {
   "cell_type": "code",
   "execution_count": 16,
   "id": "0f209702",
   "metadata": {},
   "outputs": [
    {
     "name": "stdout",
     "output_type": "stream",
     "text": [
      "<class 'pandas.core.frame.DataFrame'>\n",
      "RangeIndex: 230 entries, 0 to 229\n",
      "Data columns (total 3 columns):\n",
      " #   Column  Non-Null Count  Dtype \n",
      "---  ------  --------------  ----- \n",
      " 0   NOC     230 non-null    object\n",
      " 1   region  227 non-null    object\n",
      " 2   notes   21 non-null     object\n",
      "dtypes: object(3)\n",
      "memory usage: 5.5+ KB\n"
     ]
    }
   ],
   "source": [
    "df_noc_regions.info()"
   ]
  },
  {
   "cell_type": "markdown",
   "id": "5fbf556c",
   "metadata": {},
   "source": [
    "Check duplicated rows"
   ]
  },
  {
   "cell_type": "code",
   "execution_count": 17,
   "id": "05dc2164",
   "metadata": {},
   "outputs": [
    {
     "data": {
      "text/plain": [
       "False"
      ]
     },
     "execution_count": 17,
     "metadata": {},
     "output_type": "execute_result"
    }
   ],
   "source": [
    "any(df_noc_regions.duplicated())"
   ]
  },
  {
   "cell_type": "markdown",
   "id": "83ebcff3",
   "metadata": {},
   "source": [
    "***Comments:***\n",
    "1. Data type: No problems\n",
    "2. NULL values: 2 columns have NULL values:  \n",
    "    2.1. `region`: NULL values can be replaced by their corresponding values of `notes` column  \n",
    "    2.2. `notes`: NULL values can be ignored\n",
    "3. Duplicated values: There is no duplicated row"
   ]
  },
  {
   "cell_type": "markdown",
   "id": "049a7b4e",
   "metadata": {},
   "source": [
    "Find out why `region` column has NULL values and how to fix it "
   ]
  },
  {
   "cell_type": "code",
   "execution_count": 19,
   "id": "3b822492",
   "metadata": {},
   "outputs": [
    {
     "data": {
      "text/html": [
       "<div>\n",
       "<style scoped>\n",
       "    .dataframe tbody tr th:only-of-type {\n",
       "        vertical-align: middle;\n",
       "    }\n",
       "\n",
       "    .dataframe tbody tr th {\n",
       "        vertical-align: top;\n",
       "    }\n",
       "\n",
       "    .dataframe thead th {\n",
       "        text-align: right;\n",
       "    }\n",
       "</style>\n",
       "<table border=\"1\" class=\"dataframe\">\n",
       "  <thead>\n",
       "    <tr style=\"text-align: right;\">\n",
       "      <th></th>\n",
       "      <th>NOC</th>\n",
       "      <th>region</th>\n",
       "      <th>notes</th>\n",
       "    </tr>\n",
       "  </thead>\n",
       "  <tbody>\n",
       "    <tr>\n",
       "      <th>168</th>\n",
       "      <td>ROT</td>\n",
       "      <td>NaN</td>\n",
       "      <td>Refugee Olympic Team</td>\n",
       "    </tr>\n",
       "    <tr>\n",
       "      <th>208</th>\n",
       "      <td>TUV</td>\n",
       "      <td>NaN</td>\n",
       "      <td>Tuvalu</td>\n",
       "    </tr>\n",
       "    <tr>\n",
       "      <th>213</th>\n",
       "      <td>UNK</td>\n",
       "      <td>NaN</td>\n",
       "      <td>Unknown</td>\n",
       "    </tr>\n",
       "  </tbody>\n",
       "</table>\n",
       "</div>"
      ],
      "text/plain": [
       "     NOC region                 notes\n",
       "168  ROT    NaN  Refugee Olympic Team\n",
       "208  TUV    NaN                Tuvalu\n",
       "213  UNK    NaN               Unknown"
      ]
     },
     "execution_count": 19,
     "metadata": {},
     "output_type": "execute_result"
    }
   ],
   "source": [
    "df_noc_regions[df_noc_regions.region.isna()]"
   ]
  },
  {
   "cell_type": "markdown",
   "id": "ed2f970a",
   "metadata": {},
   "source": [
    "Process data"
   ]
  },
  {
   "cell_type": "code",
   "execution_count": 20,
   "id": "a53848ab",
   "metadata": {},
   "outputs": [],
   "source": [
    "df_noc_regions.region[df_noc_regions.region.isna()] = df_noc_regions.notes[df_noc_regions.region.isna()]"
   ]
  },
  {
   "cell_type": "markdown",
   "id": "17920fce",
   "metadata": {},
   "source": [
    "#### 5.3. For `df_city_regions` data"
   ]
  },
  {
   "cell_type": "markdown",
   "id": "4e9664bc",
   "metadata": {},
   "source": [
    "Check data types and NULL values"
   ]
  },
  {
   "cell_type": "code",
   "execution_count": 22,
   "id": "5f8857ce",
   "metadata": {},
   "outputs": [
    {
     "name": "stdout",
     "output_type": "stream",
     "text": [
      "<class 'pandas.core.frame.DataFrame'>\n",
      "RangeIndex: 42 entries, 0 to 41\n",
      "Data columns (total 2 columns):\n",
      " #   Column  Non-Null Count  Dtype \n",
      "---  ------  --------------  ----- \n",
      " 0   City    42 non-null     object\n",
      " 1   Host    42 non-null     object\n",
      "dtypes: object(2)\n",
      "memory usage: 800.0+ bytes\n"
     ]
    }
   ],
   "source": [
    "df_city_regions.info()"
   ]
  },
  {
   "cell_type": "markdown",
   "id": "afc534af",
   "metadata": {},
   "source": [
    "Check duplicated rows"
   ]
  },
  {
   "cell_type": "code",
   "execution_count": 23,
   "id": "4622ea69",
   "metadata": {},
   "outputs": [
    {
     "data": {
      "text/plain": [
       "False"
      ]
     },
     "execution_count": 23,
     "metadata": {},
     "output_type": "execute_result"
    }
   ],
   "source": [
    "any(df_city_regions.duplicated())"
   ]
  },
  {
   "cell_type": "markdown",
   "id": "709887a8",
   "metadata": {},
   "source": [
    "***Comments:***\n",
    "1. Data type: No problems\n",
    "2. NULL values: No problems\n",
    "3. Duplicated values: There is no duplicated row"
   ]
  },
  {
   "cell_type": "markdown",
   "id": "e913901f",
   "metadata": {},
   "source": [
    "### 6. Get tidy complete data"
   ]
  },
  {
   "cell_type": "markdown",
   "id": "41c05986",
   "metadata": {},
   "source": [
    "#### 6.1. Merge all data together"
   ]
  },
  {
   "cell_type": "markdown",
   "id": "d73a8ce1",
   "metadata": {},
   "source": [
    "Merge `df_athlete_events` and `df_noc_regions` without `Note` column using `NOC` column as the key"
   ]
  },
  {
   "cell_type": "code",
   "execution_count": 26,
   "id": "23d27333",
   "metadata": {},
   "outputs": [],
   "source": [
    "df = pd.merge(df_athlete_events, df_noc_regions[['NOC', 'region']], on='NOC', how='left')"
   ]
  },
  {
   "cell_type": "markdown",
   "id": "6442aed9",
   "metadata": {},
   "source": [
    "Merge `df` and `df_city_regions` using `City` column as the key"
   ]
  },
  {
   "cell_type": "code",
   "execution_count": 27,
   "id": "bc797289",
   "metadata": {},
   "outputs": [],
   "source": [
    "df = pd.merge(df, df_city_regions, on='City', how='left')"
   ]
  },
  {
   "cell_type": "markdown",
   "id": "aec9fc5f",
   "metadata": {},
   "source": [
    "***Note:*** The 2 codes above can be done using `sqldf` with sql queries"
   ]
  },
  {
   "cell_type": "markdown",
   "id": "2cce5a8c",
   "metadata": {},
   "source": [
    "#### 6.2. Check the merged data "
   ]
  },
  {
   "cell_type": "markdown",
   "id": "d586c1fa",
   "metadata": {},
   "source": [
    "Check data types and NULL values "
   ]
  },
  {
   "cell_type": "code",
   "execution_count": 28,
   "id": "a1c6ef75",
   "metadata": {},
   "outputs": [
    {
     "name": "stdout",
     "output_type": "stream",
     "text": [
      "<class 'pandas.core.frame.DataFrame'>\n",
      "Int64Index: 269731 entries, 0 to 269730\n",
      "Data columns (total 17 columns):\n",
      " #   Column  Non-Null Count   Dtype  \n",
      "---  ------  --------------   -----  \n",
      " 0   ID      269731 non-null  int64  \n",
      " 1   Name    269731 non-null  object \n",
      " 2   Sex     269731 non-null  object \n",
      " 3   Age     269731 non-null  int32  \n",
      " 4   Height  269731 non-null  float64\n",
      " 5   Weight  269731 non-null  float64\n",
      " 6   Team    269731 non-null  object \n",
      " 7   NOC     269731 non-null  object \n",
      " 8   Games   269731 non-null  object \n",
      " 9   Year    269731 non-null  int64  \n",
      " 10  Season  269731 non-null  object \n",
      " 11  City    269731 non-null  object \n",
      " 12  Sport   269731 non-null  object \n",
      " 13  Event   269731 non-null  object \n",
      " 14  Medal   269731 non-null  object \n",
      " 15  region  269382 non-null  object \n",
      " 16  Host    269731 non-null  object \n",
      "dtypes: float64(2), int32(1), int64(2), object(12)\n",
      "memory usage: 36.0+ MB\n"
     ]
    }
   ],
   "source": [
    "df.info()"
   ]
  },
  {
   "cell_type": "markdown",
   "id": "7b9c0814",
   "metadata": {},
   "source": [
    "Check duplicated rows"
   ]
  },
  {
   "cell_type": "code",
   "execution_count": 29,
   "id": "6d41dde5",
   "metadata": {},
   "outputs": [
    {
     "data": {
      "text/plain": [
       "False"
      ]
     },
     "execution_count": 29,
     "metadata": {},
     "output_type": "execute_result"
    }
   ],
   "source": [
    "any(df.duplicated())"
   ]
  },
  {
   "cell_type": "markdown",
   "id": "8b28ae79",
   "metadata": {},
   "source": [
    "***Comments:***\n",
    "1. Data type: No problems\n",
    "2. NULL values: `region` column has NULL values  \n",
    "    2.1. `region`: NULL values can be replaced by `'Singapore'`\n",
    "3. Duplicated values: There is no duplicated row"
   ]
  },
  {
   "cell_type": "markdown",
   "id": "33bb6324",
   "metadata": {},
   "source": [
    "#### 6.3. Process merged data to get tidy complete data "
   ]
  },
  {
   "cell_type": "markdown",
   "id": "d2f98946",
   "metadata": {},
   "source": [
    "Find out why `region` column has NULL values and how to fix it"
   ]
  },
  {
   "cell_type": "code",
   "execution_count": 31,
   "id": "75acc48e",
   "metadata": {},
   "outputs": [
    {
     "data": {
      "text/html": [
       "<div>\n",
       "<style scoped>\n",
       "    .dataframe tbody tr th:only-of-type {\n",
       "        vertical-align: middle;\n",
       "    }\n",
       "\n",
       "    .dataframe tbody tr th {\n",
       "        vertical-align: top;\n",
       "    }\n",
       "\n",
       "    .dataframe thead th {\n",
       "        text-align: right;\n",
       "    }\n",
       "</style>\n",
       "<table border=\"1\" class=\"dataframe\">\n",
       "  <thead>\n",
       "    <tr style=\"text-align: right;\">\n",
       "      <th></th>\n",
       "      <th>ID</th>\n",
       "      <th>Name</th>\n",
       "      <th>Sex</th>\n",
       "      <th>Age</th>\n",
       "      <th>Height</th>\n",
       "      <th>Weight</th>\n",
       "      <th>Team</th>\n",
       "      <th>NOC</th>\n",
       "      <th>Games</th>\n",
       "      <th>Year</th>\n",
       "      <th>Season</th>\n",
       "      <th>City</th>\n",
       "      <th>Sport</th>\n",
       "      <th>Event</th>\n",
       "      <th>Medal</th>\n",
       "      <th>region</th>\n",
       "      <th>Host</th>\n",
       "    </tr>\n",
       "  </thead>\n",
       "  <tbody>\n",
       "    <tr>\n",
       "      <th>578</th>\n",
       "      <td>332</td>\n",
       "      <td>Zarinah Abdullah</td>\n",
       "      <td>F</td>\n",
       "      <td>21</td>\n",
       "      <td>0.0</td>\n",
       "      <td>0.0</td>\n",
       "      <td>Singapore</td>\n",
       "      <td>SGP</td>\n",
       "      <td>1992 Summer</td>\n",
       "      <td>1992</td>\n",
       "      <td>Summer</td>\n",
       "      <td>Barcelona</td>\n",
       "      <td>Badminton</td>\n",
       "      <td>Badminton Women's Singles</td>\n",
       "      <td>None</td>\n",
       "      <td>NaN</td>\n",
       "      <td>Spain</td>\n",
       "    </tr>\n",
       "    <tr>\n",
       "      <th>579</th>\n",
       "      <td>332</td>\n",
       "      <td>Zarinah Abdullah</td>\n",
       "      <td>F</td>\n",
       "      <td>25</td>\n",
       "      <td>0.0</td>\n",
       "      <td>0.0</td>\n",
       "      <td>Singapore</td>\n",
       "      <td>SGP</td>\n",
       "      <td>1996 Summer</td>\n",
       "      <td>1996</td>\n",
       "      <td>Summer</td>\n",
       "      <td>Atlanta</td>\n",
       "      <td>Badminton</td>\n",
       "      <td>Badminton Women's Singles</td>\n",
       "      <td>None</td>\n",
       "      <td>NaN</td>\n",
       "      <td>USA</td>\n",
       "    </tr>\n",
       "    <tr>\n",
       "      <th>2718</th>\n",
       "      <td>1515</td>\n",
       "      <td>Saiyidah Aisyah Mohamed Rafa'ee</td>\n",
       "      <td>F</td>\n",
       "      <td>28</td>\n",
       "      <td>173.0</td>\n",
       "      <td>68.0</td>\n",
       "      <td>Singapore</td>\n",
       "      <td>SGP</td>\n",
       "      <td>2016 Summer</td>\n",
       "      <td>2016</td>\n",
       "      <td>Summer</td>\n",
       "      <td>Rio de Janeiro</td>\n",
       "      <td>Rowing</td>\n",
       "      <td>Rowing Women's Single Sculls</td>\n",
       "      <td>None</td>\n",
       "      <td>NaN</td>\n",
       "      <td>Brazil</td>\n",
       "    </tr>\n",
       "    <tr>\n",
       "      <th>7651</th>\n",
       "      <td>4264</td>\n",
       "      <td>Ang Peng Siong</td>\n",
       "      <td>M</td>\n",
       "      <td>21</td>\n",
       "      <td>180.0</td>\n",
       "      <td>75.0</td>\n",
       "      <td>Singapore</td>\n",
       "      <td>SGP</td>\n",
       "      <td>1984 Summer</td>\n",
       "      <td>1984</td>\n",
       "      <td>Summer</td>\n",
       "      <td>Los Angeles</td>\n",
       "      <td>Swimming</td>\n",
       "      <td>Swimming Men's 100 metres Freestyle</td>\n",
       "      <td>None</td>\n",
       "      <td>NaN</td>\n",
       "      <td>USA</td>\n",
       "    </tr>\n",
       "    <tr>\n",
       "      <th>7652</th>\n",
       "      <td>4264</td>\n",
       "      <td>Ang Peng Siong</td>\n",
       "      <td>M</td>\n",
       "      <td>21</td>\n",
       "      <td>180.0</td>\n",
       "      <td>75.0</td>\n",
       "      <td>Singapore</td>\n",
       "      <td>SGP</td>\n",
       "      <td>1984 Summer</td>\n",
       "      <td>1984</td>\n",
       "      <td>Summer</td>\n",
       "      <td>Los Angeles</td>\n",
       "      <td>Swimming</td>\n",
       "      <td>Swimming Men's 4 x 100 metres Freestyle Relay</td>\n",
       "      <td>None</td>\n",
       "      <td>NaN</td>\n",
       "      <td>USA</td>\n",
       "    </tr>\n",
       "    <tr>\n",
       "      <th>7653</th>\n",
       "      <td>4264</td>\n",
       "      <td>Ang Peng Siong</td>\n",
       "      <td>M</td>\n",
       "      <td>21</td>\n",
       "      <td>180.0</td>\n",
       "      <td>75.0</td>\n",
       "      <td>Singapore</td>\n",
       "      <td>SGP</td>\n",
       "      <td>1984 Summer</td>\n",
       "      <td>1984</td>\n",
       "      <td>Summer</td>\n",
       "      <td>Los Angeles</td>\n",
       "      <td>Swimming</td>\n",
       "      <td>Swimming Men's 100 metres Butterfly</td>\n",
       "      <td>None</td>\n",
       "      <td>NaN</td>\n",
       "      <td>USA</td>\n",
       "    </tr>\n",
       "    <tr>\n",
       "      <th>7654</th>\n",
       "      <td>4264</td>\n",
       "      <td>Ang Peng Siong</td>\n",
       "      <td>M</td>\n",
       "      <td>21</td>\n",
       "      <td>180.0</td>\n",
       "      <td>75.0</td>\n",
       "      <td>Singapore</td>\n",
       "      <td>SGP</td>\n",
       "      <td>1984 Summer</td>\n",
       "      <td>1984</td>\n",
       "      <td>Summer</td>\n",
       "      <td>Los Angeles</td>\n",
       "      <td>Swimming</td>\n",
       "      <td>Swimming Men's 4 x 100 metres Medley Relay</td>\n",
       "      <td>None</td>\n",
       "      <td>NaN</td>\n",
       "      <td>USA</td>\n",
       "    </tr>\n",
       "    <tr>\n",
       "      <th>7655</th>\n",
       "      <td>4264</td>\n",
       "      <td>Ang Peng Siong</td>\n",
       "      <td>M</td>\n",
       "      <td>25</td>\n",
       "      <td>180.0</td>\n",
       "      <td>75.0</td>\n",
       "      <td>Singapore</td>\n",
       "      <td>SGP</td>\n",
       "      <td>1988 Summer</td>\n",
       "      <td>1988</td>\n",
       "      <td>Summer</td>\n",
       "      <td>Seoul</td>\n",
       "      <td>Swimming</td>\n",
       "      <td>Swimming Men's 50 metres Freestyle</td>\n",
       "      <td>None</td>\n",
       "      <td>NaN</td>\n",
       "      <td>South Korea</td>\n",
       "    </tr>\n",
       "    <tr>\n",
       "      <th>7656</th>\n",
       "      <td>4264</td>\n",
       "      <td>Ang Peng Siong</td>\n",
       "      <td>M</td>\n",
       "      <td>25</td>\n",
       "      <td>180.0</td>\n",
       "      <td>75.0</td>\n",
       "      <td>Singapore</td>\n",
       "      <td>SGP</td>\n",
       "      <td>1988 Summer</td>\n",
       "      <td>1988</td>\n",
       "      <td>Summer</td>\n",
       "      <td>Seoul</td>\n",
       "      <td>Swimming</td>\n",
       "      <td>Swimming Men's 100 metres Freestyle</td>\n",
       "      <td>None</td>\n",
       "      <td>NaN</td>\n",
       "      <td>South Korea</td>\n",
       "    </tr>\n",
       "    <tr>\n",
       "      <th>7657</th>\n",
       "      <td>4264</td>\n",
       "      <td>Ang Peng Siong</td>\n",
       "      <td>M</td>\n",
       "      <td>25</td>\n",
       "      <td>180.0</td>\n",
       "      <td>75.0</td>\n",
       "      <td>Singapore</td>\n",
       "      <td>SGP</td>\n",
       "      <td>1988 Summer</td>\n",
       "      <td>1988</td>\n",
       "      <td>Summer</td>\n",
       "      <td>Seoul</td>\n",
       "      <td>Swimming</td>\n",
       "      <td>Swimming Men's 4 x 100 metres Freestyle Relay</td>\n",
       "      <td>None</td>\n",
       "      <td>NaN</td>\n",
       "      <td>South Korea</td>\n",
       "    </tr>\n",
       "  </tbody>\n",
       "</table>\n",
       "</div>"
      ],
      "text/plain": [
       "        ID                             Name Sex  Age  Height  Weight  \\\n",
       "578    332                 Zarinah Abdullah   F   21     0.0     0.0   \n",
       "579    332                 Zarinah Abdullah   F   25     0.0     0.0   \n",
       "2718  1515  Saiyidah Aisyah Mohamed Rafa'ee   F   28   173.0    68.0   \n",
       "7651  4264                   Ang Peng Siong   M   21   180.0    75.0   \n",
       "7652  4264                   Ang Peng Siong   M   21   180.0    75.0   \n",
       "7653  4264                   Ang Peng Siong   M   21   180.0    75.0   \n",
       "7654  4264                   Ang Peng Siong   M   21   180.0    75.0   \n",
       "7655  4264                   Ang Peng Siong   M   25   180.0    75.0   \n",
       "7656  4264                   Ang Peng Siong   M   25   180.0    75.0   \n",
       "7657  4264                   Ang Peng Siong   M   25   180.0    75.0   \n",
       "\n",
       "           Team  NOC        Games  Year  Season            City      Sport  \\\n",
       "578   Singapore  SGP  1992 Summer  1992  Summer       Barcelona  Badminton   \n",
       "579   Singapore  SGP  1996 Summer  1996  Summer         Atlanta  Badminton   \n",
       "2718  Singapore  SGP  2016 Summer  2016  Summer  Rio de Janeiro     Rowing   \n",
       "7651  Singapore  SGP  1984 Summer  1984  Summer     Los Angeles   Swimming   \n",
       "7652  Singapore  SGP  1984 Summer  1984  Summer     Los Angeles   Swimming   \n",
       "7653  Singapore  SGP  1984 Summer  1984  Summer     Los Angeles   Swimming   \n",
       "7654  Singapore  SGP  1984 Summer  1984  Summer     Los Angeles   Swimming   \n",
       "7655  Singapore  SGP  1988 Summer  1988  Summer           Seoul   Swimming   \n",
       "7656  Singapore  SGP  1988 Summer  1988  Summer           Seoul   Swimming   \n",
       "7657  Singapore  SGP  1988 Summer  1988  Summer           Seoul   Swimming   \n",
       "\n",
       "                                              Event Medal region         Host  \n",
       "578                       Badminton Women's Singles  None    NaN        Spain  \n",
       "579                       Badminton Women's Singles  None    NaN          USA  \n",
       "2718                   Rowing Women's Single Sculls  None    NaN       Brazil  \n",
       "7651            Swimming Men's 100 metres Freestyle  None    NaN          USA  \n",
       "7652  Swimming Men's 4 x 100 metres Freestyle Relay  None    NaN          USA  \n",
       "7653            Swimming Men's 100 metres Butterfly  None    NaN          USA  \n",
       "7654     Swimming Men's 4 x 100 metres Medley Relay  None    NaN          USA  \n",
       "7655             Swimming Men's 50 metres Freestyle  None    NaN  South Korea  \n",
       "7656            Swimming Men's 100 metres Freestyle  None    NaN  South Korea  \n",
       "7657  Swimming Men's 4 x 100 metres Freestyle Relay  None    NaN  South Korea  "
      ]
     },
     "execution_count": 31,
     "metadata": {},
     "output_type": "execute_result"
    }
   ],
   "source": [
    "df[df.region.isna()].head(10)"
   ]
  },
  {
   "cell_type": "code",
   "execution_count": 32,
   "id": "a14c6f1e",
   "metadata": {},
   "outputs": [
    {
     "data": {
      "text/plain": [
       "SGP    349\n",
       "Name: NOC, dtype: int64"
      ]
     },
     "execution_count": 32,
     "metadata": {},
     "output_type": "execute_result"
    }
   ],
   "source": [
    "df.NOC[df.NOC == 'SGP'].value_counts()"
   ]
  },
  {
   "cell_type": "code",
   "execution_count": 33,
   "id": "68bdc6a5",
   "metadata": {},
   "outputs": [
    {
     "data": {
      "text/html": [
       "<div>\n",
       "<style scoped>\n",
       "    .dataframe tbody tr th:only-of-type {\n",
       "        vertical-align: middle;\n",
       "    }\n",
       "\n",
       "    .dataframe tbody tr th {\n",
       "        vertical-align: top;\n",
       "    }\n",
       "\n",
       "    .dataframe thead th {\n",
       "        text-align: right;\n",
       "    }\n",
       "</style>\n",
       "<table border=\"1\" class=\"dataframe\">\n",
       "  <thead>\n",
       "    <tr style=\"text-align: right;\">\n",
       "      <th></th>\n",
       "      <th>NOC</th>\n",
       "      <th>region</th>\n",
       "      <th>notes</th>\n",
       "    </tr>\n",
       "  </thead>\n",
       "  <tbody>\n",
       "    <tr>\n",
       "      <th>178</th>\n",
       "      <td>SIN</td>\n",
       "      <td>Singapore</td>\n",
       "      <td>NaN</td>\n",
       "    </tr>\n",
       "  </tbody>\n",
       "</table>\n",
       "</div>"
      ],
      "text/plain": [
       "     NOC     region notes\n",
       "178  SIN  Singapore   NaN"
      ]
     },
     "execution_count": 33,
     "metadata": {},
     "output_type": "execute_result"
    }
   ],
   "source": [
    "df_noc_regions[df_noc_regions.region =='Singapore']"
   ]
  },
  {
   "cell_type": "markdown",
   "id": "278dd2be",
   "metadata": {},
   "source": [
    "***Comments:***\n",
    "1. 349 NULL values in `region` column correspond to 349 rows with `NOC` column of `SGP`\n",
    "2. The reason is the mismatch between `NOC` of `df_noc_regions` (SIN) and `NOC` of `df_athlete_events` (SGP)\n",
    "3. `NaN` values in `region` column of `df` can be replaced by `'Singapore'`"
   ]
  },
  {
   "cell_type": "markdown",
   "id": "70105fbc",
   "metadata": {},
   "source": [
    "Process data"
   ]
  },
  {
   "cell_type": "code",
   "execution_count": 35,
   "id": "a288fd21",
   "metadata": {},
   "outputs": [
    {
     "name": "stderr",
     "output_type": "stream",
     "text": [
      "C:\\Users\\Mr.Huy\\AppData\\Local\\Temp/ipykernel_9512/1810047920.py:2: SettingWithCopyWarning: \n",
      "A value is trying to be set on a copy of a slice from a DataFrame\n",
      "\n",
      "See the caveats in the documentation: https://pandas.pydata.org/pandas-docs/stable/user_guide/indexing.html#returning-a-view-versus-a-copy\n",
      "  df.region[df.NOC == 'SGP'] = 'Singapore'\n"
     ]
    }
   ],
   "source": [
    "df.region[df.NOC == 'SGP'] = 'Singapore'"
   ]
  },
  {
   "cell_type": "markdown",
   "id": "22c41cf0",
   "metadata": {},
   "source": [
    "***Note:*** `df` is the tidy complete data which will undergo the process of data analysis and data visualization"
   ]
  },
  {
   "cell_type": "markdown",
   "id": "3782bc47",
   "metadata": {},
   "source": [
    "## Analyzing and Visualizing Data"
   ]
  },
  {
   "cell_type": "markdown",
   "id": "41bb162f",
   "metadata": {},
   "source": [
    "***Note:*** This study largely focuses on summer events. Cases in which winter events or both events are evaluated will be clearly mentioned."
   ]
  },
  {
   "cell_type": "markdown",
   "id": "01a69874",
   "metadata": {},
   "source": [
    "### 1. Questions related to regions and number of medals\n",
    "   1.1. Which region achieved most medals each year?  \n",
    "   1.2. Which region achieved most Gold medals each year?  \n",
    "   1.3. Relationship between most medals and most Gold medals?  \n",
    "   1.4. Was host region benificial from hosting events in terms of number of medals?"
   ]
  },
  {
   "cell_type": "markdown",
   "id": "95b3523b",
   "metadata": {},
   "source": [
    "#### 1.1. Which region achieved most medals each year?"
   ]
  },
  {
   "cell_type": "markdown",
   "id": "6286e76d",
   "metadata": {},
   "source": [
    "Extract a table `df_q11` from `df`, which contains 3 columns:  \n",
    "1. year  \n",
    "2. the region with most medals in that year  \n",
    "3. the number of medals of that region  "
   ]
  },
  {
   "cell_type": "code",
   "execution_count": 39,
   "id": "7462f558",
   "metadata": {},
   "outputs": [],
   "source": [
    "df_q11 = sqldf('''\n",
    "    SELECT\n",
    "        Year,\n",
    "        region,\n",
    "        MAX(Medal_Counts) AS Medal_Counts\n",
    "    FROM\n",
    "        (SELECT \n",
    "            Year, \n",
    "            region, \n",
    "            COUNT(Medal) AS Medal_Counts\n",
    "        FROM \n",
    "            df\n",
    "        WHERE \n",
    "            (Medal <> 'None') \n",
    "            AND (Season = 'Summer')\n",
    "        GROUP BY \n",
    "            Year, \n",
    "            region) AS temp_table\n",
    "    GROUP BY\n",
    "        Year\n",
    "    ORDER BY\n",
    "        Year\n",
    "    ''')"
   ]
  },
  {
   "cell_type": "markdown",
   "id": "d87d007d",
   "metadata": {},
   "source": [
    "Have a look at `df_q11`"
   ]
  },
  {
   "cell_type": "code",
   "execution_count": 40,
   "id": "dc2f9389",
   "metadata": {},
   "outputs": [
    {
     "data": {
      "text/html": [
       "<div>\n",
       "<style scoped>\n",
       "    .dataframe tbody tr th:only-of-type {\n",
       "        vertical-align: middle;\n",
       "    }\n",
       "\n",
       "    .dataframe tbody tr th {\n",
       "        vertical-align: top;\n",
       "    }\n",
       "\n",
       "    .dataframe thead th {\n",
       "        text-align: right;\n",
       "    }\n",
       "</style>\n",
       "<table border=\"1\" class=\"dataframe\">\n",
       "  <thead>\n",
       "    <tr style=\"text-align: right;\">\n",
       "      <th></th>\n",
       "      <th>Year</th>\n",
       "      <th>region</th>\n",
       "      <th>Medal_Counts</th>\n",
       "    </tr>\n",
       "  </thead>\n",
       "  <tbody>\n",
       "    <tr>\n",
       "      <th>0</th>\n",
       "      <td>1896</td>\n",
       "      <td>Greece</td>\n",
       "      <td>48</td>\n",
       "    </tr>\n",
       "    <tr>\n",
       "      <th>1</th>\n",
       "      <td>1900</td>\n",
       "      <td>France</td>\n",
       "      <td>225</td>\n",
       "    </tr>\n",
       "    <tr>\n",
       "      <th>2</th>\n",
       "      <td>1904</td>\n",
       "      <td>USA</td>\n",
       "      <td>394</td>\n",
       "    </tr>\n",
       "    <tr>\n",
       "      <th>3</th>\n",
       "      <td>1906</td>\n",
       "      <td>Greece</td>\n",
       "      <td>102</td>\n",
       "    </tr>\n",
       "    <tr>\n",
       "      <th>4</th>\n",
       "      <td>1908</td>\n",
       "      <td>UK</td>\n",
       "      <td>368</td>\n",
       "    </tr>\n",
       "    <tr>\n",
       "      <th>5</th>\n",
       "      <td>1912</td>\n",
       "      <td>Sweden</td>\n",
       "      <td>190</td>\n",
       "    </tr>\n",
       "    <tr>\n",
       "      <th>6</th>\n",
       "      <td>1920</td>\n",
       "      <td>USA</td>\n",
       "      <td>194</td>\n",
       "    </tr>\n",
       "    <tr>\n",
       "      <th>7</th>\n",
       "      <td>1924</td>\n",
       "      <td>USA</td>\n",
       "      <td>182</td>\n",
       "    </tr>\n",
       "    <tr>\n",
       "      <th>8</th>\n",
       "      <td>1928</td>\n",
       "      <td>USA</td>\n",
       "      <td>88</td>\n",
       "    </tr>\n",
       "    <tr>\n",
       "      <th>9</th>\n",
       "      <td>1932</td>\n",
       "      <td>USA</td>\n",
       "      <td>189</td>\n",
       "    </tr>\n",
       "  </tbody>\n",
       "</table>\n",
       "</div>"
      ],
      "text/plain": [
       "   Year  region  Medal_Counts\n",
       "0  1896  Greece            48\n",
       "1  1900  France           225\n",
       "2  1904     USA           394\n",
       "3  1906  Greece           102\n",
       "4  1908      UK           368\n",
       "5  1912  Sweden           190\n",
       "6  1920     USA           194\n",
       "7  1924     USA           182\n",
       "8  1928     USA            88\n",
       "9  1932     USA           189"
      ]
     },
     "execution_count": 40,
     "metadata": {},
     "output_type": "execute_result"
    }
   ],
   "source": [
    "df_q11.head(5)"
   ]
  },
  {
   "cell_type": "code",
   "execution_count": 41,
   "id": "87ee14d2",
   "metadata": {},
   "outputs": [
    {
     "data": {
      "text/html": [
       "<div>\n",
       "<style scoped>\n",
       "    .dataframe tbody tr th:only-of-type {\n",
       "        vertical-align: middle;\n",
       "    }\n",
       "\n",
       "    .dataframe tbody tr th {\n",
       "        vertical-align: top;\n",
       "    }\n",
       "\n",
       "    .dataframe thead th {\n",
       "        text-align: right;\n",
       "    }\n",
       "</style>\n",
       "<table border=\"1\" class=\"dataframe\">\n",
       "  <thead>\n",
       "    <tr style=\"text-align: right;\">\n",
       "      <th></th>\n",
       "      <th>Year</th>\n",
       "      <th>region</th>\n",
       "      <th>Medal_Counts</th>\n",
       "    </tr>\n",
       "  </thead>\n",
       "  <tbody>\n",
       "    <tr>\n",
       "      <th>19</th>\n",
       "      <td>1980</td>\n",
       "      <td>Russia</td>\n",
       "      <td>442</td>\n",
       "    </tr>\n",
       "    <tr>\n",
       "      <th>20</th>\n",
       "      <td>1984</td>\n",
       "      <td>USA</td>\n",
       "      <td>352</td>\n",
       "    </tr>\n",
       "    <tr>\n",
       "      <th>21</th>\n",
       "      <td>1988</td>\n",
       "      <td>Russia</td>\n",
       "      <td>300</td>\n",
       "    </tr>\n",
       "    <tr>\n",
       "      <th>22</th>\n",
       "      <td>1992</td>\n",
       "      <td>USA</td>\n",
       "      <td>224</td>\n",
       "    </tr>\n",
       "    <tr>\n",
       "      <th>23</th>\n",
       "      <td>1996</td>\n",
       "      <td>USA</td>\n",
       "      <td>259</td>\n",
       "    </tr>\n",
       "    <tr>\n",
       "      <th>24</th>\n",
       "      <td>2000</td>\n",
       "      <td>USA</td>\n",
       "      <td>242</td>\n",
       "    </tr>\n",
       "    <tr>\n",
       "      <th>25</th>\n",
       "      <td>2004</td>\n",
       "      <td>USA</td>\n",
       "      <td>263</td>\n",
       "    </tr>\n",
       "    <tr>\n",
       "      <th>26</th>\n",
       "      <td>2008</td>\n",
       "      <td>USA</td>\n",
       "      <td>317</td>\n",
       "    </tr>\n",
       "    <tr>\n",
       "      <th>27</th>\n",
       "      <td>2012</td>\n",
       "      <td>USA</td>\n",
       "      <td>248</td>\n",
       "    </tr>\n",
       "    <tr>\n",
       "      <th>28</th>\n",
       "      <td>2016</td>\n",
       "      <td>USA</td>\n",
       "      <td>264</td>\n",
       "    </tr>\n",
       "  </tbody>\n",
       "</table>\n",
       "</div>"
      ],
      "text/plain": [
       "    Year  region  Medal_Counts\n",
       "19  1980  Russia           442\n",
       "20  1984     USA           352\n",
       "21  1988  Russia           300\n",
       "22  1992     USA           224\n",
       "23  1996     USA           259\n",
       "24  2000     USA           242\n",
       "25  2004     USA           263\n",
       "26  2008     USA           317\n",
       "27  2012     USA           248\n",
       "28  2016     USA           264"
      ]
     },
     "execution_count": 41,
     "metadata": {},
     "output_type": "execute_result"
    }
   ],
   "source": [
    "df_q11.tail(5)"
   ]
  },
  {
   "cell_type": "code",
   "execution_count": 42,
   "id": "33115d7f",
   "metadata": {},
   "outputs": [
    {
     "data": {
      "text/plain": [
       "USA        15\n",
       "Russia      7\n",
       "Greece      2\n",
       "Germany     2\n",
       "France      1\n",
       "UK          1\n",
       "Sweden      1\n",
       "Name: region, dtype: int64"
      ]
     },
     "execution_count": 42,
     "metadata": {},
     "output_type": "execute_result"
    }
   ],
   "source": [
    "df_q11.region.value_counts()"
   ]
  },
  {
   "cell_type": "markdown",
   "id": "6adc30dc",
   "metadata": {},
   "source": [
    "***Note:*** There are only 7 different regions with most medals during the period from 1896 to 2016"
   ]
  },
  {
   "cell_type": "markdown",
   "id": "39f24ac4",
   "metadata": {},
   "source": [
    "Plot a piechart to find out the distribution of these 7 regions"
   ]
  },
  {
   "cell_type": "code",
   "execution_count": 43,
   "id": "a1d330ec",
   "metadata": {},
   "outputs": [
    {
     "data": {
      "image/png": "[encoded data removed]",
      "text/plain": [
       "<Figure size 648x360 with 1 Axes>"
      ]
     },
     "metadata": {},
     "output_type": "display_data"
    }
   ],
   "source": [
    "fig1, ax1 = plt.subplots()\n",
    "colors = ['#1f77b4', '#ff7f0e', '#2ca02c', '#d62728', '#9467bd', '#8b3e2f', '#cd1076']\n",
    "explode = (0.0, 0.06, 0.07, 0.07, 0.08, 0.08, 0.08)\n",
    "ax1.pie(df_q11.region.value_counts(),\n",
    "        colors=colors,\n",
    "        explode=explode,\n",
    "        labels=df_q11.region.value_counts().index,\n",
    "        autopct='%.0f%%',\n",
    "        pctdistance=0.85,\n",
    "        labeldistance=1.1,\n",
    "        startangle=45)\n",
    "center_circle = plt.Circle((0, 0), 0.75, color='white')\n",
    "ax1.add_artist(center_circle)\n",
    "ax1.axis('equal')\n",
    "plt.tight_layout()\n",
    "plt.show()"
   ]
  },
  {
   "cell_type": "markdown",
   "id": "1735b137",
   "metadata": {},
   "source": [
    "#### 1.2. Which region achieved most Gold medals each year?"
   ]
  },
  {
   "cell_type": "markdown",
   "id": "fdbdc0eb",
   "metadata": {},
   "source": [
    "Extract a table `df_q12` from `df`, which contains 3 columns:  \n",
    "1. year  \n",
    "2. the region with most Gold medals in that year  \n",
    "3. the number of Gold medals of that region  "
   ]
  },
  {
   "cell_type": "code",
   "execution_count": 45,
   "id": "98b64bf9",
   "metadata": {},
   "outputs": [],
   "source": [
    "df_q12 = sqldf('''\n",
    "    SELECT\n",
    "        Year,\n",
    "        region,\n",
    "        MAX(Gold_Medal_Counts) AS Gold_Medal_Counts\n",
    "    FROM\n",
    "        (SELECT \n",
    "            Year, \n",
    "            region, \n",
    "            COUNT(Medal) AS Gold_Medal_Counts\n",
    "        FROM \n",
    "            df\n",
    "        WHERE \n",
    "            (Medal = 'Gold') \n",
    "            AND (Season = 'Summer')\n",
    "        GROUP BY \n",
    "            Year, \n",
    "            region) AS temp_table\n",
    "    GROUP BY\n",
    "        Year\n",
    "    ORDER BY\n",
    "        Year\n",
    "    ''')"
   ]
  },
  {
   "cell_type": "markdown",
   "id": "d455617f",
   "metadata": {},
   "source": [
    "Have a look at `df_q12`"
   ]
  },
  {
   "cell_type": "code",
   "execution_count": 46,
   "id": "3bf0b5ea",
   "metadata": {},
   "outputs": [
    {
     "data": {
      "text/html": [
       "<div>\n",
       "<style scoped>\n",
       "    .dataframe tbody tr th:only-of-type {\n",
       "        vertical-align: middle;\n",
       "    }\n",
       "\n",
       "    .dataframe tbody tr th {\n",
       "        vertical-align: top;\n",
       "    }\n",
       "\n",
       "    .dataframe thead th {\n",
       "        text-align: right;\n",
       "    }\n",
       "</style>\n",
       "<table border=\"1\" class=\"dataframe\">\n",
       "  <thead>\n",
       "    <tr style=\"text-align: right;\">\n",
       "      <th></th>\n",
       "      <th>Year</th>\n",
       "      <th>region</th>\n",
       "      <th>Gold_Medal_Counts</th>\n",
       "    </tr>\n",
       "  </thead>\n",
       "  <tbody>\n",
       "    <tr>\n",
       "      <th>19</th>\n",
       "      <td>1980</td>\n",
       "      <td>Russia</td>\n",
       "      <td>187</td>\n",
       "    </tr>\n",
       "    <tr>\n",
       "      <th>20</th>\n",
       "      <td>1984</td>\n",
       "      <td>USA</td>\n",
       "      <td>186</td>\n",
       "    </tr>\n",
       "    <tr>\n",
       "      <th>21</th>\n",
       "      <td>1988</td>\n",
       "      <td>Russia</td>\n",
       "      <td>134</td>\n",
       "    </tr>\n",
       "    <tr>\n",
       "      <th>22</th>\n",
       "      <td>1992</td>\n",
       "      <td>Russia</td>\n",
       "      <td>92</td>\n",
       "    </tr>\n",
       "    <tr>\n",
       "      <th>23</th>\n",
       "      <td>1996</td>\n",
       "      <td>USA</td>\n",
       "      <td>159</td>\n",
       "    </tr>\n",
       "    <tr>\n",
       "      <th>24</th>\n",
       "      <td>2000</td>\n",
       "      <td>USA</td>\n",
       "      <td>130</td>\n",
       "    </tr>\n",
       "    <tr>\n",
       "      <th>25</th>\n",
       "      <td>2004</td>\n",
       "      <td>USA</td>\n",
       "      <td>117</td>\n",
       "    </tr>\n",
       "    <tr>\n",
       "      <th>26</th>\n",
       "      <td>2008</td>\n",
       "      <td>USA</td>\n",
       "      <td>127</td>\n",
       "    </tr>\n",
       "    <tr>\n",
       "      <th>27</th>\n",
       "      <td>2012</td>\n",
       "      <td>USA</td>\n",
       "      <td>145</td>\n",
       "    </tr>\n",
       "    <tr>\n",
       "      <th>28</th>\n",
       "      <td>2016</td>\n",
       "      <td>USA</td>\n",
       "      <td>139</td>\n",
       "    </tr>\n",
       "  </tbody>\n",
       "</table>\n",
       "</div>"
      ],
      "text/plain": [
       "    Year  region  Gold_Medal_Counts\n",
       "19  1980  Russia                187\n",
       "20  1984     USA                186\n",
       "21  1988  Russia                134\n",
       "22  1992  Russia                 92\n",
       "23  1996     USA                159\n",
       "24  2000     USA                130\n",
       "25  2004     USA                117\n",
       "26  2008     USA                127\n",
       "27  2012     USA                145\n",
       "28  2016     USA                139"
      ]
     },
     "execution_count": 46,
     "metadata": {},
     "output_type": "execute_result"
    }
   ],
   "source": [
    "df_q12.head(5)"
   ]
  },
  {
   "cell_type": "code",
   "execution_count": 47,
   "id": "b3a80508",
   "metadata": {},
   "outputs": [
    {
     "data": {
      "text/html": [
       "<div>\n",
       "<style scoped>\n",
       "    .dataframe tbody tr th:only-of-type {\n",
       "        vertical-align: middle;\n",
       "    }\n",
       "\n",
       "    .dataframe tbody tr th {\n",
       "        vertical-align: top;\n",
       "    }\n",
       "\n",
       "    .dataframe thead th {\n",
       "        text-align: right;\n",
       "    }\n",
       "</style>\n",
       "<table border=\"1\" class=\"dataframe\">\n",
       "  <thead>\n",
       "    <tr style=\"text-align: right;\">\n",
       "      <th></th>\n",
       "      <th>Year</th>\n",
       "      <th>region</th>\n",
       "      <th>Gold_Medal_Counts</th>\n",
       "    </tr>\n",
       "  </thead>\n",
       "  <tbody>\n",
       "    <tr>\n",
       "      <th>19</th>\n",
       "      <td>1980</td>\n",
       "      <td>Russia</td>\n",
       "      <td>187</td>\n",
       "    </tr>\n",
       "    <tr>\n",
       "      <th>20</th>\n",
       "      <td>1984</td>\n",
       "      <td>USA</td>\n",
       "      <td>186</td>\n",
       "    </tr>\n",
       "    <tr>\n",
       "      <th>21</th>\n",
       "      <td>1988</td>\n",
       "      <td>Russia</td>\n",
       "      <td>134</td>\n",
       "    </tr>\n",
       "    <tr>\n",
       "      <th>22</th>\n",
       "      <td>1992</td>\n",
       "      <td>Russia</td>\n",
       "      <td>92</td>\n",
       "    </tr>\n",
       "    <tr>\n",
       "      <th>23</th>\n",
       "      <td>1996</td>\n",
       "      <td>USA</td>\n",
       "      <td>159</td>\n",
       "    </tr>\n",
       "    <tr>\n",
       "      <th>24</th>\n",
       "      <td>2000</td>\n",
       "      <td>USA</td>\n",
       "      <td>130</td>\n",
       "    </tr>\n",
       "    <tr>\n",
       "      <th>25</th>\n",
       "      <td>2004</td>\n",
       "      <td>USA</td>\n",
       "      <td>117</td>\n",
       "    </tr>\n",
       "    <tr>\n",
       "      <th>26</th>\n",
       "      <td>2008</td>\n",
       "      <td>USA</td>\n",
       "      <td>127</td>\n",
       "    </tr>\n",
       "    <tr>\n",
       "      <th>27</th>\n",
       "      <td>2012</td>\n",
       "      <td>USA</td>\n",
       "      <td>145</td>\n",
       "    </tr>\n",
       "    <tr>\n",
       "      <th>28</th>\n",
       "      <td>2016</td>\n",
       "      <td>USA</td>\n",
       "      <td>139</td>\n",
       "    </tr>\n",
       "  </tbody>\n",
       "</table>\n",
       "</div>"
      ],
      "text/plain": [
       "    Year  region  Gold_Medal_Counts\n",
       "19  1980  Russia                187\n",
       "20  1984     USA                186\n",
       "21  1988  Russia                134\n",
       "22  1992  Russia                 92\n",
       "23  1996     USA                159\n",
       "24  2000     USA                130\n",
       "25  2004     USA                117\n",
       "26  2008     USA                127\n",
       "27  2012     USA                145\n",
       "28  2016     USA                139"
      ]
     },
     "execution_count": 47,
     "metadata": {},
     "output_type": "execute_result"
    }
   ],
   "source": [
    "df_q12.tail(5)"
   ]
  },
  {
   "cell_type": "code",
   "execution_count": 48,
   "id": "8087f336",
   "metadata": {},
   "outputs": [
    {
     "data": {
      "text/plain": [
       "USA        17\n",
       "Russia      5\n",
       "Germany     3\n",
       "UK          2\n",
       "Greece      1\n",
       "Sweden      1\n",
       "Name: region, dtype: int64"
      ]
     },
     "execution_count": 48,
     "metadata": {},
     "output_type": "execute_result"
    }
   ],
   "source": [
    "df_q12.region.value_counts()"
   ]
  },
  {
   "cell_type": "markdown",
   "id": "d4c0f779",
   "metadata": {},
   "source": [
    "***Note:*** There are only 6 different regions with most Gold medals during the period from 1896 to 2016"
   ]
  },
  {
   "cell_type": "markdown",
   "id": "6b90a91c",
   "metadata": {},
   "source": [
    "Plot a piechart to find out the distribution of these 6 regions"
   ]
  },
  {
   "cell_type": "code",
   "execution_count": 49,
   "id": "f0ce00a9",
   "metadata": {},
   "outputs": [
    {
     "data": {
      "image/png": "[encoded data removed]",
      "text/plain": [
       "<Figure size 648x360 with 1 Axes>"
      ]
     },
     "metadata": {},
     "output_type": "display_data"
    }
   ],
   "source": [
    "fig1, ax1 = plt.subplots()\n",
    "colors = ['#1f77b4', '#ff7f0e', '#2ca02c', '#d62728', '#9467bd', '#8b3e2f']\n",
    "explode = (0.0, 0.06, 0.07, 0.08, 0.09, 0.09)\n",
    "ax1.pie(df_q12.region.value_counts(),\n",
    "        colors=colors,\n",
    "        explode=explode,\n",
    "        labels=df_q12.region.value_counts().index,\n",
    "        autopct='%.0f%%',\n",
    "        pctdistance=0.85,\n",
    "        labeldistance=1.1,\n",
    "        startangle=45)\n",
    "center_circle = plt.Circle((0, 0), 0.75, color='white')\n",
    "ax1.add_artist(center_circle)\n",
    "ax1.axis('equal')\n",
    "plt.tight_layout()\n",
    "plt.show()"
   ]
  },
  {
   "cell_type": "markdown",
   "id": "24aa27f4",
   "metadata": {},
   "source": [
    "### 2. Questions related to athletes and number of medals\n",
    "   2.1. Which athlete achieved most medals?  \n",
    "   2.2. Which athlete achieved most Gold medals?  \n",
    "   2.3. Breakdown of medals of athletes with most medals  \n",
    "   2.4. Is there any athlete who won medals in different sports?"
   ]
  },
  {
   "cell_type": "markdown",
   "id": "9b4c1b3b",
   "metadata": {},
   "source": [
    "#### 2.1. Which athlete achieved most medals?"
   ]
  },
  {
   "cell_type": "markdown",
   "id": "9c47dd95",
   "metadata": {},
   "source": [
    "Extract a table `df_q21` from `df`, which contains 3 columns:  \n",
    "1. ID of an athlete  \n",
    "2. Name of the athlete  \n",
    "3. The number of medals the athlete won  "
   ]
  },
  {
   "cell_type": "code",
   "execution_count": 58,
   "id": "2d5f98a2",
   "metadata": {},
   "outputs": [],
   "source": [
    "df_q21 = sqldf('''\n",
    "    SELECT ID, Name, COUNT(Medal) AS Medal_Counts\n",
    "    FROM df\n",
    "    WHERE (Season = 'Summer') AND (Medal <> 'None')\n",
    "    GROUP BY ID, Name\n",
    "    ORDER BY Medal_Counts DESC\n",
    "    LIMIT 10\n",
    "''')"
   ]
  },
  {
   "cell_type": "markdown",
   "id": "b32225dd",
   "metadata": {},
   "source": [
    "Have a look at the first 10 rows of `df_q21`"
   ]
  },
  {
   "cell_type": "code",
   "execution_count": 59,
   "id": "41a599ef",
   "metadata": {},
   "outputs": [
    {
     "data": {
      "text/html": [
       "<div>\n",
       "<style scoped>\n",
       "    .dataframe tbody tr th:only-of-type {\n",
       "        vertical-align: middle;\n",
       "    }\n",
       "\n",
       "    .dataframe tbody tr th {\n",
       "        vertical-align: top;\n",
       "    }\n",
       "\n",
       "    .dataframe thead th {\n",
       "        text-align: right;\n",
       "    }\n",
       "</style>\n",
       "<table border=\"1\" class=\"dataframe\">\n",
       "  <thead>\n",
       "    <tr style=\"text-align: right;\">\n",
       "      <th></th>\n",
       "      <th>ID</th>\n",
       "      <th>Name</th>\n",
       "      <th>Medal_Counts</th>\n",
       "    </tr>\n",
       "  </thead>\n",
       "  <tbody>\n",
       "    <tr>\n",
       "      <th>0</th>\n",
       "      <td>94406</td>\n",
       "      <td>Michael Fred Phelps, II</td>\n",
       "      <td>28</td>\n",
       "    </tr>\n",
       "    <tr>\n",
       "      <th>1</th>\n",
       "      <td>67046</td>\n",
       "      <td>Larysa Semenivna Latynina (Diriy-)</td>\n",
       "      <td>18</td>\n",
       "    </tr>\n",
       "    <tr>\n",
       "      <th>2</th>\n",
       "      <td>4198</td>\n",
       "      <td>Nikolay Yefimovich Andrianov</td>\n",
       "      <td>15</td>\n",
       "    </tr>\n",
       "    <tr>\n",
       "      <th>3</th>\n",
       "      <td>74420</td>\n",
       "      <td>Edoardo Mangiarotti</td>\n",
       "      <td>13</td>\n",
       "    </tr>\n",
       "    <tr>\n",
       "      <th>4</th>\n",
       "      <td>89187</td>\n",
       "      <td>Takashi Ono</td>\n",
       "      <td>13</td>\n",
       "    </tr>\n",
       "    <tr>\n",
       "      <th>5</th>\n",
       "      <td>109161</td>\n",
       "      <td>Borys Anfiyanovych Shakhlin</td>\n",
       "      <td>13</td>\n",
       "    </tr>\n",
       "    <tr>\n",
       "      <th>6</th>\n",
       "      <td>23426</td>\n",
       "      <td>Natalie Anne Coughlin (-Hall)</td>\n",
       "      <td>12</td>\n",
       "    </tr>\n",
       "    <tr>\n",
       "      <th>7</th>\n",
       "      <td>35550</td>\n",
       "      <td>Birgit Fischer-Schmidt</td>\n",
       "      <td>12</td>\n",
       "    </tr>\n",
       "    <tr>\n",
       "      <th>8</th>\n",
       "      <td>57998</td>\n",
       "      <td>Sawao Kato</td>\n",
       "      <td>12</td>\n",
       "    </tr>\n",
       "    <tr>\n",
       "      <th>9</th>\n",
       "      <td>70965</td>\n",
       "      <td>Ryan Steven Lochte</td>\n",
       "      <td>12</td>\n",
       "    </tr>\n",
       "  </tbody>\n",
       "</table>\n",
       "</div>"
      ],
      "text/plain": [
       "       ID                                Name  Medal_Counts\n",
       "0   94406             Michael Fred Phelps, II            28\n",
       "1   67046  Larysa Semenivna Latynina (Diriy-)            18\n",
       "2    4198        Nikolay Yefimovich Andrianov            15\n",
       "3   74420                 Edoardo Mangiarotti            13\n",
       "4   89187                         Takashi Ono            13\n",
       "5  109161         Borys Anfiyanovych Shakhlin            13\n",
       "6   23426       Natalie Anne Coughlin (-Hall)            12\n",
       "7   35550              Birgit Fischer-Schmidt            12\n",
       "8   57998                          Sawao Kato            12\n",
       "9   70965                  Ryan Steven Lochte            12"
      ]
     },
     "execution_count": 59,
     "metadata": {},
     "output_type": "execute_result"
    }
   ],
   "source": [
    "df_q21"
   ]
  },
  {
   "cell_type": "markdown",
   "id": "ff54745e",
   "metadata": {},
   "source": [
    "Create a bar chart showing top 10 athletes with most medals"
   ]
  },
  {
   "cell_type": "code",
   "execution_count": 60,
   "id": "ffeb2dee",
   "metadata": {},
   "outputs": [
    {
     "data": {
      "image/png": "[encoded data removed]",
      "text/plain": [
       "<Figure size 864x432 with 1 Axes>"
      ]
     },
     "metadata": {
      "needs_background": "light"
     },
     "output_type": "display_data"
    }
   ],
   "source": [
    "plt.figure(figsize=(12, 6))\n",
    "sns.barplot(x=df_q21.Medal_Counts, y=df_q21.Name)\n",
    "plt.xlabel('Number of Medals')\n",
    "plt.ylabel(None)\n",
    "plt.show()"
   ]
  },
  {
   "cell_type": "markdown",
   "id": "dd38a03b",
   "metadata": {},
   "source": [
    "#### 2.1. Which athlete achieved most Gold medals?"
   ]
  },
  {
   "cell_type": "markdown",
   "id": "01f7529b",
   "metadata": {},
   "source": [
    "Extract a table `df_q22` from `df`, which contains 3 columns:  \n",
    "1. ID of an athlete  \n",
    "2. Name of the athlete  \n",
    "3. The number of Gold medals the athlete won  "
   ]
  },
  {
   "cell_type": "code",
   "execution_count": 62,
   "id": "5b899763",
   "metadata": {},
   "outputs": [],
   "source": [
    "df_q22 = sqldf('''\n",
    "    SELECT ID, Name, COUNT(Medal) AS Gold_Medal_Counts\n",
    "    FROM df\n",
    "    WHERE (Season = 'Summer') AND (Medal = 'Gold')\n",
    "    GROUP BY ID, Name\n",
    "    ORDER BY Gold_Medal_Counts DESC\n",
    "    LIMIT 10\n",
    "''')"
   ]
  },
  {
   "cell_type": "markdown",
   "id": "cd7b1b0d",
   "metadata": {},
   "source": [
    "Have a look at the first 10 rows of `df_q22`"
   ]
  },
  {
   "cell_type": "code",
   "execution_count": 63,
   "id": "b0ea58ee",
   "metadata": {},
   "outputs": [
    {
     "data": {
      "text/html": [
       "<div>\n",
       "<style scoped>\n",
       "    .dataframe tbody tr th:only-of-type {\n",
       "        vertical-align: middle;\n",
       "    }\n",
       "\n",
       "    .dataframe tbody tr th {\n",
       "        vertical-align: top;\n",
       "    }\n",
       "\n",
       "    .dataframe thead th {\n",
       "        text-align: right;\n",
       "    }\n",
       "</style>\n",
       "<table border=\"1\" class=\"dataframe\">\n",
       "  <thead>\n",
       "    <tr style=\"text-align: right;\">\n",
       "      <th></th>\n",
       "      <th>ID</th>\n",
       "      <th>Name</th>\n",
       "      <th>Gold_Medal_Counts</th>\n",
       "    </tr>\n",
       "  </thead>\n",
       "  <tbody>\n",
       "    <tr>\n",
       "      <th>0</th>\n",
       "      <td>94406</td>\n",
       "      <td>Michael Fred Phelps, II</td>\n",
       "      <td>23</td>\n",
       "    </tr>\n",
       "    <tr>\n",
       "      <th>1</th>\n",
       "      <td>33557</td>\n",
       "      <td>Raymond Clarence \"Ray\" Ewry</td>\n",
       "      <td>10</td>\n",
       "    </tr>\n",
       "    <tr>\n",
       "      <th>2</th>\n",
       "      <td>67046</td>\n",
       "      <td>Larysa Semenivna Latynina (Diriy-)</td>\n",
       "      <td>9</td>\n",
       "    </tr>\n",
       "    <tr>\n",
       "      <th>3</th>\n",
       "      <td>69210</td>\n",
       "      <td>Frederick Carlton \"Carl\" Lewis</td>\n",
       "      <td>9</td>\n",
       "    </tr>\n",
       "    <tr>\n",
       "      <th>4</th>\n",
       "      <td>87390</td>\n",
       "      <td>Paavo Johannes Nurmi</td>\n",
       "      <td>9</td>\n",
       "    </tr>\n",
       "    <tr>\n",
       "      <th>5</th>\n",
       "      <td>113912</td>\n",
       "      <td>Mark Andrew Spitz</td>\n",
       "      <td>9</td>\n",
       "    </tr>\n",
       "    <tr>\n",
       "      <th>6</th>\n",
       "      <td>11642</td>\n",
       "      <td>Matthew Nicholas \"Matt\" Biondi</td>\n",
       "      <td>8</td>\n",
       "    </tr>\n",
       "    <tr>\n",
       "      <th>7</th>\n",
       "      <td>13029</td>\n",
       "      <td>Usain St. Leo Bolt</td>\n",
       "      <td>8</td>\n",
       "    </tr>\n",
       "    <tr>\n",
       "      <th>8</th>\n",
       "      <td>35550</td>\n",
       "      <td>Birgit Fischer-Schmidt</td>\n",
       "      <td>8</td>\n",
       "    </tr>\n",
       "    <tr>\n",
       "      <th>9</th>\n",
       "      <td>57998</td>\n",
       "      <td>Sawao Kato</td>\n",
       "      <td>8</td>\n",
       "    </tr>\n",
       "  </tbody>\n",
       "</table>\n",
       "</div>"
      ],
      "text/plain": [
       "       ID                                Name  Gold_Medal_Counts\n",
       "0   94406             Michael Fred Phelps, II                 23\n",
       "1   33557         Raymond Clarence \"Ray\" Ewry                 10\n",
       "2   67046  Larysa Semenivna Latynina (Diriy-)                  9\n",
       "3   69210      Frederick Carlton \"Carl\" Lewis                  9\n",
       "4   87390                Paavo Johannes Nurmi                  9\n",
       "5  113912                   Mark Andrew Spitz                  9\n",
       "6   11642      Matthew Nicholas \"Matt\" Biondi                  8\n",
       "7   13029                  Usain St. Leo Bolt                  8\n",
       "8   35550              Birgit Fischer-Schmidt                  8\n",
       "9   57998                          Sawao Kato                  8"
      ]
     },
     "execution_count": 63,
     "metadata": {},
     "output_type": "execute_result"
    }
   ],
   "source": [
    "df_q22"
   ]
  },
  {
   "cell_type": "markdown",
   "id": "29dc8b8b",
   "metadata": {},
   "source": [
    "Create a bar chart showing top 10 athletes with most Gold medals"
   ]
  },
  {
   "cell_type": "code",
   "execution_count": 64,
   "id": "8b33745d",
   "metadata": {},
   "outputs": [
    {
     "data": {
      "image/png": "[encoded data removed]",
      "text/plain": [
       "<Figure size 864x432 with 1 Axes>"
      ]
     },
     "metadata": {
      "needs_background": "light"
     },
     "output_type": "display_data"
    }
   ],
   "source": [
    "plt.figure(figsize=(12, 6))\n",
    "sns.barplot(x=df_q22.Gold_Medal_Counts, y=df_q22.Name)\n",
    "plt.xlabel('Number of Gold Medals')\n",
    "plt.ylabel(None)\n",
    "plt.show()"
   ]
  },
  {
   "cell_type": "markdown",
   "id": "567ecfb3",
   "metadata": {},
   "source": [
    "#### 2.3. Breakdown of medals of athletes with most medals  "
   ]
  },
  {
   "cell_type": "markdown",
   "id": "63976529",
   "metadata": {},
   "source": [
    "Extract a table `df_Top` table from `df`, data of which are related to only Top 10 athletes with most medals"
   ]
  },
  {
   "cell_type": "code",
   "execution_count": 66,
   "id": "e407f8c8",
   "metadata": {},
   "outputs": [],
   "source": [
    "df_Top10 = df[df['ID'].isin(df_q21.ID.to_list())]"
   ]
  },
  {
   "cell_type": "markdown",
   "id": "48cda90b",
   "metadata": {},
   "source": [
    "Extract a table `df_q23G` from `df`, which contains 3 columns:  \n",
    "1. ID of an athlete  \n",
    "2. Name of the athlete  \n",
    "3. The number of Gold medals the athlete won  "
   ]
  },
  {
   "cell_type": "code",
   "execution_count": 67,
   "id": "77ef8a0d",
   "metadata": {},
   "outputs": [],
   "source": [
    "df_q23G = sqldf('''\n",
    "    SELECT ID, Name, COUNT(Medal) AS Gold_Medal_Counts\n",
    "    FROM df_Top10\n",
    "    WHERE (Season = 'Summer') AND (Medal = 'Gold')\n",
    "    GROUP BY ID, Name\n",
    "''')"
   ]
  },
  {
   "cell_type": "markdown",
   "id": "ef049fc9",
   "metadata": {},
   "source": [
    "Have a look at `df_q23G`"
   ]
  },
  {
   "cell_type": "code",
   "execution_count": 68,
   "id": "59ff651b",
   "metadata": {},
   "outputs": [
    {
     "data": {
      "text/html": [
       "<div>\n",
       "<style scoped>\n",
       "    .dataframe tbody tr th:only-of-type {\n",
       "        vertical-align: middle;\n",
       "    }\n",
       "\n",
       "    .dataframe tbody tr th {\n",
       "        vertical-align: top;\n",
       "    }\n",
       "\n",
       "    .dataframe thead th {\n",
       "        text-align: right;\n",
       "    }\n",
       "</style>\n",
       "<table border=\"1\" class=\"dataframe\">\n",
       "  <thead>\n",
       "    <tr style=\"text-align: right;\">\n",
       "      <th></th>\n",
       "      <th>ID</th>\n",
       "      <th>Name</th>\n",
       "      <th>Gold_Medal_Counts</th>\n",
       "    </tr>\n",
       "  </thead>\n",
       "  <tbody>\n",
       "    <tr>\n",
       "      <th>0</th>\n",
       "      <td>4198</td>\n",
       "      <td>Nikolay Yefimovich Andrianov</td>\n",
       "      <td>7</td>\n",
       "    </tr>\n",
       "    <tr>\n",
       "      <th>1</th>\n",
       "      <td>23426</td>\n",
       "      <td>Natalie Anne Coughlin (-Hall)</td>\n",
       "      <td>3</td>\n",
       "    </tr>\n",
       "    <tr>\n",
       "      <th>2</th>\n",
       "      <td>35550</td>\n",
       "      <td>Birgit Fischer-Schmidt</td>\n",
       "      <td>8</td>\n",
       "    </tr>\n",
       "    <tr>\n",
       "      <th>3</th>\n",
       "      <td>57998</td>\n",
       "      <td>Sawao Kato</td>\n",
       "      <td>8</td>\n",
       "    </tr>\n",
       "    <tr>\n",
       "      <th>4</th>\n",
       "      <td>67046</td>\n",
       "      <td>Larysa Semenivna Latynina (Diriy-)</td>\n",
       "      <td>9</td>\n",
       "    </tr>\n",
       "    <tr>\n",
       "      <th>5</th>\n",
       "      <td>70965</td>\n",
       "      <td>Ryan Steven Lochte</td>\n",
       "      <td>6</td>\n",
       "    </tr>\n",
       "    <tr>\n",
       "      <th>6</th>\n",
       "      <td>74420</td>\n",
       "      <td>Edoardo Mangiarotti</td>\n",
       "      <td>6</td>\n",
       "    </tr>\n",
       "    <tr>\n",
       "      <th>7</th>\n",
       "      <td>89187</td>\n",
       "      <td>Takashi Ono</td>\n",
       "      <td>5</td>\n",
       "    </tr>\n",
       "    <tr>\n",
       "      <th>8</th>\n",
       "      <td>94406</td>\n",
       "      <td>Michael Fred Phelps, II</td>\n",
       "      <td>23</td>\n",
       "    </tr>\n",
       "    <tr>\n",
       "      <th>9</th>\n",
       "      <td>109161</td>\n",
       "      <td>Borys Anfiyanovych Shakhlin</td>\n",
       "      <td>7</td>\n",
       "    </tr>\n",
       "  </tbody>\n",
       "</table>\n",
       "</div>"
      ],
      "text/plain": [
       "       ID                                Name  Gold_Medal_Counts\n",
       "0    4198        Nikolay Yefimovich Andrianov                  7\n",
       "1   23426       Natalie Anne Coughlin (-Hall)                  3\n",
       "2   35550              Birgit Fischer-Schmidt                  8\n",
       "3   57998                          Sawao Kato                  8\n",
       "4   67046  Larysa Semenivna Latynina (Diriy-)                  9\n",
       "5   70965                  Ryan Steven Lochte                  6\n",
       "6   74420                 Edoardo Mangiarotti                  6\n",
       "7   89187                         Takashi Ono                  5\n",
       "8   94406             Michael Fred Phelps, II                 23\n",
       "9  109161         Borys Anfiyanovych Shakhlin                  7"
      ]
     },
     "execution_count": 68,
     "metadata": {},
     "output_type": "execute_result"
    }
   ],
   "source": [
    "df_q23G"
   ]
  },
  {
   "cell_type": "markdown",
   "id": "27dabdb2",
   "metadata": {},
   "source": [
    "Extract a table `df_q23S` from `df`, which contains 3 columns:  \n",
    "1. ID of an athlete  \n",
    "2. Name of the athlete  \n",
    "3. The number of Silver medals the athlete won  "
   ]
  },
  {
   "cell_type": "code",
   "execution_count": 1,
   "id": "15f25f09",
   "metadata": {},
   "outputs": [
    {
     "ename": "NameError",
     "evalue": "name 'sqldf' is not defined",
     "output_type": "error",
     "traceback": [
      "\u001b[1;31m---------------------------------------------------------------------------\u001b[0m",
      "\u001b[1;31mNameError\u001b[0m                                 Traceback (most recent call last)",
      "\u001b[1;32m~\\AppData\\Local\\Temp/ipykernel_11320/1533695731.py\u001b[0m in \u001b[0;36m<module>\u001b[1;34m\u001b[0m\n\u001b[1;32m----> 1\u001b[1;33m df_q23S = sqldf('''\n\u001b[0m\u001b[0;32m      2\u001b[0m     \u001b[0mSELECT\u001b[0m \u001b[0mID\u001b[0m\u001b[1;33m,\u001b[0m \u001b[0mName\u001b[0m\u001b[1;33m,\u001b[0m \u001b[0mCOUNT\u001b[0m\u001b[1;33m(\u001b[0m\u001b[0mMedal\u001b[0m\u001b[1;33m)\u001b[0m \u001b[0mAS\u001b[0m \u001b[0mSilver_Medal_Counts\u001b[0m\u001b[1;33m\u001b[0m\u001b[1;33m\u001b[0m\u001b[0m\n\u001b[0;32m      3\u001b[0m     \u001b[0mFROM\u001b[0m \u001b[0mdf_Top10\u001b[0m\u001b[1;33m\u001b[0m\u001b[1;33m\u001b[0m\u001b[0m\n\u001b[0;32m      4\u001b[0m     \u001b[0mWHERE\u001b[0m \u001b[1;33m(\u001b[0m\u001b[0mSeason\u001b[0m \u001b[1;33m=\u001b[0m \u001b[1;34m'Summer'\u001b[0m\u001b[1;33m)\u001b[0m \u001b[0mAND\u001b[0m \u001b[1;33m(\u001b[0m\u001b[0mMedal\u001b[0m \u001b[1;33m=\u001b[0m \u001b[1;34m'Silver'\u001b[0m\u001b[1;33m)\u001b[0m\u001b[1;33m\u001b[0m\u001b[1;33m\u001b[0m\u001b[0m\n\u001b[0;32m      5\u001b[0m     \u001b[0mGROUP\u001b[0m \u001b[0mBY\u001b[0m \u001b[0mID\u001b[0m\u001b[1;33m,\u001b[0m \u001b[0mName\u001b[0m\u001b[1;33m\u001b[0m\u001b[1;33m\u001b[0m\u001b[0m\n",
      "\u001b[1;31mNameError\u001b[0m: name 'sqldf' is not defined"
     ]
    }
   ],
   "source": [
    "df_q23S = sqldf('''\n",
    "    SELECT ID, Name, COUNT(Medal) AS Silver_Medal_Counts\n",
    "    FROM df_Top10\n",
    "    WHERE (Season = 'Summer') AND (Medal = 'Silver')\n",
    "    GROUP BY ID, Name\n",
    "''')"
   ]
  },
  {
   "cell_type": "markdown",
   "id": "467f26ff",
   "metadata": {},
   "source": [
    "Have a look at `df_q23S`"
   ]
  },
  {
   "cell_type": "code",
   "execution_count": 70,
   "id": "c7dcf5ec",
   "metadata": {},
   "outputs": [
    {
     "data": {
      "text/html": [
       "<div>\n",
       "<style scoped>\n",
       "    .dataframe tbody tr th:only-of-type {\n",
       "        vertical-align: middle;\n",
       "    }\n",
       "\n",
       "    .dataframe tbody tr th {\n",
       "        vertical-align: top;\n",
       "    }\n",
       "\n",
       "    .dataframe thead th {\n",
       "        text-align: right;\n",
       "    }\n",
       "</style>\n",
       "<table border=\"1\" class=\"dataframe\">\n",
       "  <thead>\n",
       "    <tr style=\"text-align: right;\">\n",
       "      <th></th>\n",
       "      <th>ID</th>\n",
       "      <th>Name</th>\n",
       "      <th>Silver_Medal_Counts</th>\n",
       "    </tr>\n",
       "  </thead>\n",
       "  <tbody>\n",
       "    <tr>\n",
       "      <th>0</th>\n",
       "      <td>4198</td>\n",
       "      <td>Nikolay Yefimovich Andrianov</td>\n",
       "      <td>5</td>\n",
       "    </tr>\n",
       "    <tr>\n",
       "      <th>1</th>\n",
       "      <td>23426</td>\n",
       "      <td>Natalie Anne Coughlin (-Hall)</td>\n",
       "      <td>4</td>\n",
       "    </tr>\n",
       "    <tr>\n",
       "      <th>2</th>\n",
       "      <td>35550</td>\n",
       "      <td>Birgit Fischer-Schmidt</td>\n",
       "      <td>4</td>\n",
       "    </tr>\n",
       "    <tr>\n",
       "      <th>3</th>\n",
       "      <td>57998</td>\n",
       "      <td>Sawao Kato</td>\n",
       "      <td>3</td>\n",
       "    </tr>\n",
       "    <tr>\n",
       "      <th>4</th>\n",
       "      <td>67046</td>\n",
       "      <td>Larysa Semenivna Latynina (Diriy-)</td>\n",
       "      <td>5</td>\n",
       "    </tr>\n",
       "    <tr>\n",
       "      <th>5</th>\n",
       "      <td>70965</td>\n",
       "      <td>Ryan Steven Lochte</td>\n",
       "      <td>3</td>\n",
       "    </tr>\n",
       "    <tr>\n",
       "      <th>6</th>\n",
       "      <td>74420</td>\n",
       "      <td>Edoardo Mangiarotti</td>\n",
       "      <td>5</td>\n",
       "    </tr>\n",
       "    <tr>\n",
       "      <th>7</th>\n",
       "      <td>89187</td>\n",
       "      <td>Takashi Ono</td>\n",
       "      <td>4</td>\n",
       "    </tr>\n",
       "    <tr>\n",
       "      <th>8</th>\n",
       "      <td>94406</td>\n",
       "      <td>Michael Fred Phelps, II</td>\n",
       "      <td>3</td>\n",
       "    </tr>\n",
       "    <tr>\n",
       "      <th>9</th>\n",
       "      <td>109161</td>\n",
       "      <td>Borys Anfiyanovych Shakhlin</td>\n",
       "      <td>4</td>\n",
       "    </tr>\n",
       "  </tbody>\n",
       "</table>\n",
       "</div>"
      ],
      "text/plain": [
       "       ID                                Name  Silver_Medal_Counts\n",
       "0    4198        Nikolay Yefimovich Andrianov                    5\n",
       "1   23426       Natalie Anne Coughlin (-Hall)                    4\n",
       "2   35550              Birgit Fischer-Schmidt                    4\n",
       "3   57998                          Sawao Kato                    3\n",
       "4   67046  Larysa Semenivna Latynina (Diriy-)                    5\n",
       "5   70965                  Ryan Steven Lochte                    3\n",
       "6   74420                 Edoardo Mangiarotti                    5\n",
       "7   89187                         Takashi Ono                    4\n",
       "8   94406             Michael Fred Phelps, II                    3\n",
       "9  109161         Borys Anfiyanovych Shakhlin                    4"
      ]
     },
     "execution_count": 70,
     "metadata": {},
     "output_type": "execute_result"
    }
   ],
   "source": [
    "df_q23S"
   ]
  },
  {
   "cell_type": "markdown",
   "id": "006f309f",
   "metadata": {},
   "source": [
    "Extract a table `df_q23B` from `df`, which contains 3 columns:  \n",
    "1. ID of an athlete  \n",
    "2. Name of the athlete  \n",
    "3. The number of Bronze medals the athlete won  "
   ]
  },
  {
   "cell_type": "code",
   "execution_count": 71,
   "id": "8a16d223",
   "metadata": {},
   "outputs": [],
   "source": [
    "df_q23B = sqldf('''\n",
    "    SELECT ID, Name, COUNT(Medal) AS Bronze_Medal_Counts\n",
    "    FROM df_Top10\n",
    "    WHERE (Season = 'Summer') AND (Medal = 'Bronze')\n",
    "    GROUP BY ID, Name\n",
    "''')"
   ]
  },
  {
   "cell_type": "markdown",
   "id": "70c1d2c0",
   "metadata": {},
   "source": [
    "Have a look at `df_q23B`"
   ]
  },
  {
   "cell_type": "code",
   "execution_count": 72,
   "id": "34dc20fd",
   "metadata": {},
   "outputs": [
    {
     "data": {
      "text/html": [
       "<div>\n",
       "<style scoped>\n",
       "    .dataframe tbody tr th:only-of-type {\n",
       "        vertical-align: middle;\n",
       "    }\n",
       "\n",
       "    .dataframe tbody tr th {\n",
       "        vertical-align: top;\n",
       "    }\n",
       "\n",
       "    .dataframe thead th {\n",
       "        text-align: right;\n",
       "    }\n",
       "</style>\n",
       "<table border=\"1\" class=\"dataframe\">\n",
       "  <thead>\n",
       "    <tr style=\"text-align: right;\">\n",
       "      <th></th>\n",
       "      <th>ID</th>\n",
       "      <th>Name</th>\n",
       "      <th>Bronze_Medal_Counts</th>\n",
       "    </tr>\n",
       "  </thead>\n",
       "  <tbody>\n",
       "    <tr>\n",
       "      <th>0</th>\n",
       "      <td>4198</td>\n",
       "      <td>Nikolay Yefimovich Andrianov</td>\n",
       "      <td>3</td>\n",
       "    </tr>\n",
       "    <tr>\n",
       "      <th>1</th>\n",
       "      <td>23426</td>\n",
       "      <td>Natalie Anne Coughlin (-Hall)</td>\n",
       "      <td>5</td>\n",
       "    </tr>\n",
       "    <tr>\n",
       "      <th>2</th>\n",
       "      <td>57998</td>\n",
       "      <td>Sawao Kato</td>\n",
       "      <td>1</td>\n",
       "    </tr>\n",
       "    <tr>\n",
       "      <th>3</th>\n",
       "      <td>67046</td>\n",
       "      <td>Larysa Semenivna Latynina (Diriy-)</td>\n",
       "      <td>4</td>\n",
       "    </tr>\n",
       "    <tr>\n",
       "      <th>4</th>\n",
       "      <td>70965</td>\n",
       "      <td>Ryan Steven Lochte</td>\n",
       "      <td>3</td>\n",
       "    </tr>\n",
       "    <tr>\n",
       "      <th>5</th>\n",
       "      <td>74420</td>\n",
       "      <td>Edoardo Mangiarotti</td>\n",
       "      <td>2</td>\n",
       "    </tr>\n",
       "    <tr>\n",
       "      <th>6</th>\n",
       "      <td>89187</td>\n",
       "      <td>Takashi Ono</td>\n",
       "      <td>4</td>\n",
       "    </tr>\n",
       "    <tr>\n",
       "      <th>7</th>\n",
       "      <td>94406</td>\n",
       "      <td>Michael Fred Phelps, II</td>\n",
       "      <td>2</td>\n",
       "    </tr>\n",
       "    <tr>\n",
       "      <th>8</th>\n",
       "      <td>109161</td>\n",
       "      <td>Borys Anfiyanovych Shakhlin</td>\n",
       "      <td>2</td>\n",
       "    </tr>\n",
       "  </tbody>\n",
       "</table>\n",
       "</div>"
      ],
      "text/plain": [
       "       ID                                Name  Bronze_Medal_Counts\n",
       "0    4198        Nikolay Yefimovich Andrianov                    3\n",
       "1   23426       Natalie Anne Coughlin (-Hall)                    5\n",
       "2   57998                          Sawao Kato                    1\n",
       "3   67046  Larysa Semenivna Latynina (Diriy-)                    4\n",
       "4   70965                  Ryan Steven Lochte                    3\n",
       "5   74420                 Edoardo Mangiarotti                    2\n",
       "6   89187                         Takashi Ono                    4\n",
       "7   94406             Michael Fred Phelps, II                    2\n",
       "8  109161         Borys Anfiyanovych Shakhlin                    2"
      ]
     },
     "execution_count": 72,
     "metadata": {},
     "output_type": "execute_result"
    }
   ],
   "source": [
    "df_q23B"
   ]
  },
  {
   "cell_type": "markdown",
   "id": "62e82978",
   "metadata": {},
   "source": [
    "Merger all tables created up to this point in this question using `ID` column as the key to get `df_q23` which contains information on the breakdown of medals of 10 athletes with most medals"
   ]
  },
  {
   "cell_type": "code",
   "execution_count": 73,
   "id": "7bacc706",
   "metadata": {},
   "outputs": [],
   "source": [
    "df_q23 = sqldf('''\n",
    "    SELECT q21.ID, q21.Name, Medal_Counts, Gold_Medal_Counts, Silver_Medal_Counts, Bronze_Medal_Counts\n",
    "    FROM\n",
    "        df_q21 AS q21\n",
    "        LEFT JOIN df_q23G AS G ON q21.ID = G.ID\n",
    "        LEFT JOIN df_q23S AS S ON q21.ID = S.ID\n",
    "        LEFT JOIN df_q23B AS B ON q21.ID = B.ID\n",
    "''')"
   ]
  },
  {
   "cell_type": "markdown",
   "id": "34c696f2",
   "metadata": {},
   "source": [
    "Check data types and NULL values of `df_q23`"
   ]
  },
  {
   "cell_type": "code",
   "execution_count": 74,
   "id": "a5d076c6",
   "metadata": {},
   "outputs": [
    {
     "name": "stdout",
     "output_type": "stream",
     "text": [
      "<class 'pandas.core.frame.DataFrame'>\n",
      "RangeIndex: 10 entries, 0 to 9\n",
      "Data columns (total 6 columns):\n",
      " #   Column               Non-Null Count  Dtype  \n",
      "---  ------               --------------  -----  \n",
      " 0   ID                   10 non-null     int64  \n",
      " 1   Name                 10 non-null     object \n",
      " 2   Medal_Counts         10 non-null     int64  \n",
      " 3   Gold_Medal_Counts    10 non-null     int64  \n",
      " 4   Silver_Medal_Counts  10 non-null     int64  \n",
      " 5   Bronze_Medal_Counts  9 non-null      float64\n",
      "dtypes: float64(1), int64(4), object(1)\n",
      "memory usage: 608.0+ bytes\n"
     ]
    }
   ],
   "source": [
    "df_q23.info()"
   ]
  },
  {
   "cell_type": "markdown",
   "id": "376f05cb",
   "metadata": {},
   "source": [
    "***Comments:***\n",
    "1. Data types: Data type of `Bronze_Medal_Counts` column can be changed to `int`\n",
    "2. NULL values: NULL values of `Bronze_Medal_Counts` can be changed to `0`\n",
    "3. Duplicated values: No problem"
   ]
  },
  {
   "cell_type": "markdown",
   "id": "566bc6b5",
   "metadata": {},
   "source": [
    "Process `df_q23`"
   ]
  },
  {
   "cell_type": "code",
   "execution_count": 76,
   "id": "7df4e443",
   "metadata": {},
   "outputs": [],
   "source": [
    "df_q23.Bronze_Medal_Counts = df_q23.Bronze_Medal_Counts.fillna(0).astype('int')"
   ]
  },
  {
   "cell_type": "markdown",
   "id": "0ef2a329",
   "metadata": {},
   "source": [
    "Have a look at tidy `df_q23`"
   ]
  },
  {
   "cell_type": "code",
   "execution_count": 77,
   "id": "02ae116a",
   "metadata": {},
   "outputs": [
    {
     "data": {
      "text/html": [
       "<div>\n",
       "<style scoped>\n",
       "    .dataframe tbody tr th:only-of-type {\n",
       "        vertical-align: middle;\n",
       "    }\n",
       "\n",
       "    .dataframe tbody tr th {\n",
       "        vertical-align: top;\n",
       "    }\n",
       "\n",
       "    .dataframe thead th {\n",
       "        text-align: right;\n",
       "    }\n",
       "</style>\n",
       "<table border=\"1\" class=\"dataframe\">\n",
       "  <thead>\n",
       "    <tr style=\"text-align: right;\">\n",
       "      <th></th>\n",
       "      <th>ID</th>\n",
       "      <th>Name</th>\n",
       "      <th>Medal_Counts</th>\n",
       "      <th>Gold_Medal_Counts</th>\n",
       "      <th>Silver_Medal_Counts</th>\n",
       "      <th>Bronze_Medal_Counts</th>\n",
       "    </tr>\n",
       "  </thead>\n",
       "  <tbody>\n",
       "    <tr>\n",
       "      <th>0</th>\n",
       "      <td>94406</td>\n",
       "      <td>Michael Fred Phelps, II</td>\n",
       "      <td>28</td>\n",
       "      <td>23</td>\n",
       "      <td>3</td>\n",
       "      <td>2</td>\n",
       "    </tr>\n",
       "    <tr>\n",
       "      <th>1</th>\n",
       "      <td>67046</td>\n",
       "      <td>Larysa Semenivna Latynina (Diriy-)</td>\n",
       "      <td>18</td>\n",
       "      <td>9</td>\n",
       "      <td>5</td>\n",
       "      <td>4</td>\n",
       "    </tr>\n",
       "    <tr>\n",
       "      <th>2</th>\n",
       "      <td>4198</td>\n",
       "      <td>Nikolay Yefimovich Andrianov</td>\n",
       "      <td>15</td>\n",
       "      <td>7</td>\n",
       "      <td>5</td>\n",
       "      <td>3</td>\n",
       "    </tr>\n",
       "    <tr>\n",
       "      <th>3</th>\n",
       "      <td>74420</td>\n",
       "      <td>Edoardo Mangiarotti</td>\n",
       "      <td>13</td>\n",
       "      <td>6</td>\n",
       "      <td>5</td>\n",
       "      <td>2</td>\n",
       "    </tr>\n",
       "    <tr>\n",
       "      <th>4</th>\n",
       "      <td>89187</td>\n",
       "      <td>Takashi Ono</td>\n",
       "      <td>13</td>\n",
       "      <td>5</td>\n",
       "      <td>4</td>\n",
       "      <td>4</td>\n",
       "    </tr>\n",
       "    <tr>\n",
       "      <th>5</th>\n",
       "      <td>109161</td>\n",
       "      <td>Borys Anfiyanovych Shakhlin</td>\n",
       "      <td>13</td>\n",
       "      <td>7</td>\n",
       "      <td>4</td>\n",
       "      <td>2</td>\n",
       "    </tr>\n",
       "    <tr>\n",
       "      <th>6</th>\n",
       "      <td>23426</td>\n",
       "      <td>Natalie Anne Coughlin (-Hall)</td>\n",
       "      <td>12</td>\n",
       "      <td>3</td>\n",
       "      <td>4</td>\n",
       "      <td>5</td>\n",
       "    </tr>\n",
       "    <tr>\n",
       "      <th>7</th>\n",
       "      <td>35550</td>\n",
       "      <td>Birgit Fischer-Schmidt</td>\n",
       "      <td>12</td>\n",
       "      <td>8</td>\n",
       "      <td>4</td>\n",
       "      <td>0</td>\n",
       "    </tr>\n",
       "    <tr>\n",
       "      <th>8</th>\n",
       "      <td>57998</td>\n",
       "      <td>Sawao Kato</td>\n",
       "      <td>12</td>\n",
       "      <td>8</td>\n",
       "      <td>3</td>\n",
       "      <td>1</td>\n",
       "    </tr>\n",
       "    <tr>\n",
       "      <th>9</th>\n",
       "      <td>70965</td>\n",
       "      <td>Ryan Steven Lochte</td>\n",
       "      <td>12</td>\n",
       "      <td>6</td>\n",
       "      <td>3</td>\n",
       "      <td>3</td>\n",
       "    </tr>\n",
       "  </tbody>\n",
       "</table>\n",
       "</div>"
      ],
      "text/plain": [
       "       ID                                Name  Medal_Counts  \\\n",
       "0   94406             Michael Fred Phelps, II            28   \n",
       "1   67046  Larysa Semenivna Latynina (Diriy-)            18   \n",
       "2    4198        Nikolay Yefimovich Andrianov            15   \n",
       "3   74420                 Edoardo Mangiarotti            13   \n",
       "4   89187                         Takashi Ono            13   \n",
       "5  109161         Borys Anfiyanovych Shakhlin            13   \n",
       "6   23426       Natalie Anne Coughlin (-Hall)            12   \n",
       "7   35550              Birgit Fischer-Schmidt            12   \n",
       "8   57998                          Sawao Kato            12   \n",
       "9   70965                  Ryan Steven Lochte            12   \n",
       "\n",
       "   Gold_Medal_Counts  Silver_Medal_Counts  Bronze_Medal_Counts  \n",
       "0                 23                    3                    2  \n",
       "1                  9                    5                    4  \n",
       "2                  7                    5                    3  \n",
       "3                  6                    5                    2  \n",
       "4                  5                    4                    4  \n",
       "5                  7                    4                    2  \n",
       "6                  3                    4                    5  \n",
       "7                  8                    4                    0  \n",
       "8                  8                    3                    1  \n",
       "9                  6                    3                    3  "
      ]
     },
     "execution_count": 77,
     "metadata": {},
     "output_type": "execute_result"
    }
   ],
   "source": [
    "df_q23"
   ]
  },
  {
   "cell_type": "markdown",
   "id": "60c96f16",
   "metadata": {},
   "source": [
    "Plot a horizontal stacked bar chart to show the breakdown of the medals"
   ]
  },
  {
   "cell_type": "code",
   "execution_count": 78,
   "id": "3bf8f67b",
   "metadata": {},
   "outputs": [
    {
     "data": {
      "image/png": "[encoded data removed]",
      "text/plain": [
       "<Figure size 864x432 with 1 Axes>"
      ]
     },
     "metadata": {
      "needs_background": "light"
     },
     "output_type": "display_data"
    }
   ],
   "source": [
    "fig1, ax1 = plt.subplots()\n",
    "ax1.barh(y=df_q23.Name[::-1], \n",
    "         width=df_q23.Bronze_Medal_Counts[::-1], \n",
    "         label='Bronze',\n",
    "         color='#8b7355')\n",
    "ax1.barh(y=df_q23.Name[::-1], \n",
    "         width=df_q23.Silver_Medal_Counts[::-1], \n",
    "         label='Silver', \n",
    "         left=df_q23.Bronze_Medal_Counts[::-1],\n",
    "         color='#a9a9a9')\n",
    "ax1.barh(y=df_q23.Name[::-1], \n",
    "         width=df_q23.Gold_Medal_Counts[::-1], \n",
    "         label='Gold', \n",
    "         left=df_q23.Silver_Medal_Counts[::-1]+df_q23.Bronze_Medal_Counts[::-1],\n",
    "         color='#e3Cf57')\n",
    "ax1.set_xlabel('Number of Medals')\n",
    "ax1.legend()\n",
    "fig1.set_figwidth(12)\n",
    "fig1.set_figheight(6)\n",
    "plt.show()"
   ]
  },
  {
   "cell_type": "markdown",
   "id": "27344abd",
   "metadata": {},
   "source": [
    "#### 2.4. Is there any athlete who won medals in different sports?"
   ]
  },
  {
   "cell_type": "markdown",
   "id": "433f099d",
   "metadata": {},
   "source": [
    "Extract a table `df_q24` from `df`, which contains 4 columns:  \n",
    "1. ID of an athlete  \n",
    "2. Name of the athlete\n",
    "3. The number of different sports the athlete participated in\n",
    "4. The number of medals the athlete won"
   ]
  },
  {
   "cell_type": "code",
   "execution_count": 80,
   "id": "4057755c",
   "metadata": {},
   "outputs": [],
   "source": [
    "df_q24 = sqldf('''\n",
    "    SELECT ID, Name, COUNT(DISTINCT Sport) AS Number_Of_Sports, COUNT(Sport) AS Number_Of_Medals\n",
    "    FROM df\n",
    "    WHERE (Medal <> 'None') AND (Season = 'Summer')\n",
    "    GROUP BY ID, Name\n",
    "    HAVING COUNT(DISTINCT Sport) > 1\n",
    "    ORDER BY Number_Of_Sports DESC, Number_Of_Medals DESC\n",
    "''')"
   ]
  },
  {
   "cell_type": "markdown",
   "id": "0f7d55d7",
   "metadata": {},
   "source": [
    "Have a look at the brief summary of `df_q24`"
   ]
  },
  {
   "cell_type": "code",
   "execution_count": 81,
   "id": "dc6146ee",
   "metadata": {},
   "outputs": [
    {
     "name": "stdout",
     "output_type": "stream",
     "text": [
      "<class 'pandas.core.frame.DataFrame'>\n",
      "RangeIndex: 67 entries, 0 to 66\n",
      "Data columns (total 4 columns):\n",
      " #   Column            Non-Null Count  Dtype \n",
      "---  ------            --------------  ----- \n",
      " 0   ID                67 non-null     int64 \n",
      " 1   Name              67 non-null     object\n",
      " 2   Number_Of_Sports  67 non-null     int64 \n",
      " 3   Number_Of_Medals  67 non-null     int64 \n",
      "dtypes: int64(3), object(1)\n",
      "memory usage: 2.2+ KB\n"
     ]
    }
   ],
   "source": [
    "df_q24.info()"
   ]
  },
  {
   "cell_type": "markdown",
   "id": "d16618a5",
   "metadata": {},
   "source": [
    "Have a look at the first 5 rows of `df_q24`"
   ]
  },
  {
   "cell_type": "code",
   "execution_count": 82,
   "id": "83496a27",
   "metadata": {},
   "outputs": [
    {
     "data": {
      "text/html": [
       "<div>\n",
       "<style scoped>\n",
       "    .dataframe tbody tr th:only-of-type {\n",
       "        vertical-align: middle;\n",
       "    }\n",
       "\n",
       "    .dataframe tbody tr th {\n",
       "        vertical-align: top;\n",
       "    }\n",
       "\n",
       "    .dataframe thead th {\n",
       "        text-align: right;\n",
       "    }\n",
       "</style>\n",
       "<table border=\"1\" class=\"dataframe\">\n",
       "  <thead>\n",
       "    <tr style=\"text-align: right;\">\n",
       "      <th></th>\n",
       "      <th>ID</th>\n",
       "      <th>Name</th>\n",
       "      <th>Number_Of_Sports</th>\n",
       "      <th>Number_Of_Medals</th>\n",
       "    </tr>\n",
       "  </thead>\n",
       "  <tbody>\n",
       "    <tr>\n",
       "      <th>0</th>\n",
       "      <td>64683</td>\n",
       "      <td>Frank X. Kugler</td>\n",
       "      <td>3</td>\n",
       "      <td>4</td>\n",
       "    </tr>\n",
       "    <tr>\n",
       "      <th>1</th>\n",
       "      <td>68647</td>\n",
       "      <td>Eric Otto Valdemar Lemming</td>\n",
       "      <td>2</td>\n",
       "      <td>7</td>\n",
       "    </tr>\n",
       "    <tr>\n",
       "      <th>2</th>\n",
       "      <td>129469</td>\n",
       "      <td>Peter Johann \"Johnny\" Weissmuller</td>\n",
       "      <td>2</td>\n",
       "      <td>6</td>\n",
       "    </tr>\n",
       "    <tr>\n",
       "      <th>3</th>\n",
       "      <td>53973</td>\n",
       "      <td>John Arthur Jarvis</td>\n",
       "      <td>2</td>\n",
       "      <td>6</td>\n",
       "    </tr>\n",
       "    <tr>\n",
       "      <th>4</th>\n",
       "      <td>129248</td>\n",
       "      <td>Karl Magnus Wegelius</td>\n",
       "      <td>2</td>\n",
       "      <td>5</td>\n",
       "    </tr>\n",
       "  </tbody>\n",
       "</table>\n",
       "</div>"
      ],
      "text/plain": [
       "       ID                               Name  Number_Of_Sports  \\\n",
       "0   64683                    Frank X. Kugler                 3   \n",
       "1   68647         Eric Otto Valdemar Lemming                 2   \n",
       "2  129469  Peter Johann \"Johnny\" Weissmuller                 2   \n",
       "3   53973                 John Arthur Jarvis                 2   \n",
       "4  129248               Karl Magnus Wegelius                 2   \n",
       "\n",
       "   Number_Of_Medals  \n",
       "0                 4  \n",
       "1                 7  \n",
       "2                 6  \n",
       "3                 6  \n",
       "4                 5  "
      ]
     },
     "execution_count": 82,
     "metadata": {},
     "output_type": "execute_result"
    }
   ],
   "source": [
    "df_q24.head()"
   ]
  },
  {
   "cell_type": "markdown",
   "id": "f82ef9be",
   "metadata": {},
   "source": [
    "***Comments:***\n",
    "1. There are 67 athletes participating in at least 2 different types of sport and winning medals\n",
    "2. Amongs these, the highest number of different types of sport is 3\n",
    "3. Amongs these, the highest number of medals achieved is 7"
   ]
  },
  {
   "cell_type": "markdown",
   "id": "ab8a3c65",
   "metadata": {},
   "source": [
    "### 3. Questions related to age/weight/height and number of medals?\n",
    "3.1. In which age/weight/height range did athletes win medals?  \n",
    "3.2. What sports did athletes at low-extreme of age/weight/height range win?  \n",
    "3.3. What sports did athletes at high-extreme of age/weight/height range win?  \n",
    "3.4. Relationship of Weight and Height of medalists"
   ]
  },
  {
   "cell_type": "markdown",
   "id": "8d9b26cf",
   "metadata": {},
   "source": [
    "***Note:*** Both Winter and Summer events are taken into consideration under these questions"
   ]
  },
  {
   "cell_type": "markdown",
   "id": "ff196a65",
   "metadata": {},
   "source": [
    "#### 3.1. In which age range did athletes win medals?"
   ]
  },
  {
   "cell_type": "markdown",
   "id": "f45906e6",
   "metadata": {},
   "source": [
    "Have a look at the summary of `Age` column of medalists with `Age` larger than `0` (which is placeholder for previously NULL values) "
   ]
  },
  {
   "cell_type": "code",
   "execution_count": 87,
   "id": "8b22c030",
   "metadata": {},
   "outputs": [
    {
     "data": {
      "text/plain": [
       "count    39044.000000\n",
       "mean        25.923112\n",
       "std          5.910831\n",
       "min         10.000000\n",
       "25%         22.000000\n",
       "50%         25.000000\n",
       "75%         29.000000\n",
       "max         73.000000\n",
       "Name: Age, dtype: float64"
      ]
     },
     "execution_count": 87,
     "metadata": {},
     "output_type": "execute_result"
    }
   ],
   "source": [
    "df.Age[(df.Age > 0) & (df.Medal != 'None')].describe()"
   ]
  },
  {
   "cell_type": "markdown",
   "id": "3e99a020",
   "metadata": {},
   "source": [
    "Create a histogram for `Age` column of medalists"
   ]
  },
  {
   "cell_type": "code",
   "execution_count": 88,
   "id": "9ee1e1c0",
   "metadata": {},
   "outputs": [
    {
     "data": {
      "image/png": "[encoded data removed]",
      "text/plain": [
       "<Figure size 864x432 with 1 Axes>"
      ]
     },
     "metadata": {
      "needs_background": "light"
     },
     "output_type": "display_data"
    }
   ],
   "source": [
    "plt.figure(figsize=(12, 6))\n",
    "counts, edges, plot = plt.hist(df.Age[(df.Age > 0) & (df.Medal != 'None')], \n",
    "                               bins = np.arange(10,100,2), \n",
    "                               color='darkred')\n",
    "plt.xlabel('Age')\n",
    "plt.ylabel('Number of Participants')\n",
    "plt.show()"
   ]
  },
  {
   "cell_type": "markdown",
   "id": "02c55b8a",
   "metadata": {},
   "source": [
    "Get the bin with most participants"
   ]
  },
  {
   "cell_type": "code",
   "execution_count": 89,
   "id": "1cd5c2ed",
   "metadata": {},
   "outputs": [
    {
     "data": {
      "text/plain": [
       "array([22])"
      ]
     },
     "execution_count": 89,
     "metadata": {},
     "output_type": "execute_result"
    }
   ],
   "source": [
    "edges[:len(edges)-1][counts == counts.max()]"
   ]
  },
  {
   "cell_type": "markdown",
   "id": "af20cfd3",
   "metadata": {},
   "source": [
    "***Comments:***\n",
    "1. 50% of the medalists are in age range of 22-29\n",
    "2. The age bin of 22-24 has the highest number of medalists"
   ]
  },
  {
   "cell_type": "markdown",
   "id": "62cf64fd",
   "metadata": {},
   "source": [
    "#### 3.2. What sports did athletes at low-extreme of age range win?"
   ]
  },
  {
   "cell_type": "markdown",
   "id": "2429d2bc",
   "metadata": {},
   "source": [
    "Extract a table `Sport_low_age` with data on Top 5 sports in which most young participants won medals  \n",
    "***Note:*** Participants are considered young when their age is smaller than 18 in this study"
   ]
  },
  {
   "cell_type": "code",
   "execution_count": 92,
   "id": "4a462f25",
   "metadata": {},
   "outputs": [
    {
     "data": {
      "text/plain": [
       "Swimming          4863\n",
       "Gymnastics        3855\n",
       "Athletics          542\n",
       "Alpine Skiing      471\n",
       "Figure Skating     362\n",
       "Name: Sport, dtype: int64"
      ]
     },
     "execution_count": 92,
     "metadata": {},
     "output_type": "execute_result"
    }
   ],
   "source": [
    "Sport_low_age = df.Sport[(df.Age < 18) & (df.Age > 0)].value_counts().head(5)\n",
    "Sport_low_age"
   ]
  },
  {
   "cell_type": "markdown",
   "id": "bb02f389",
   "metadata": {},
   "source": [
    "Create a bar chart of `Sport_low_age`"
   ]
  },
  {
   "cell_type": "code",
   "execution_count": 93,
   "id": "75152a3b",
   "metadata": {},
   "outputs": [
    {
     "data": {
      "image/png": "[encoded data removed]",
      "text/plain": [
       "<Figure size 864x432 with 1 Axes>"
      ]
     },
     "metadata": {
      "needs_background": "light"
     },
     "output_type": "display_data"
    }
   ],
   "source": [
    "plt.figure(figsize=(12, 6))\n",
    "sns.barplot(x = Sport_low_age.index, y = Sport_low_age)\n",
    "plt.xlabel(None)\n",
    "plt.ylabel('Number of Medalists')\n",
    "plt.show()"
   ]
  },
  {
   "cell_type": "markdown",
   "id": "a0642ab1",
   "metadata": {},
   "source": [
    "***Comments:*** Young medalists dominate in *Swimming* and *Gymnastics*"
   ]
  },
  {
   "cell_type": "markdown",
   "id": "ec6dc813",
   "metadata": {},
   "source": [
    "#### 3.3. What sports did athletes at high-extreme of age range win?"
   ]
  },
  {
   "cell_type": "markdown",
   "id": "273fddc8",
   "metadata": {},
   "source": [
    "Extract a table `Sport_high_age` with data on Top 5 sports in which most old participants won medals  \n",
    "***Note:*** Participants are considered old when their age is greater than 50 in this study"
   ]
  },
  {
   "cell_type": "code",
   "execution_count": 96,
   "id": "e1de0a6a",
   "metadata": {},
   "outputs": [
    {
     "data": {
      "text/plain": [
       "Art Competitions    600\n",
       "Shooting            464\n",
       "Equestrianism       299\n",
       "Sailing             174\n",
       "Archery              73\n",
       "Name: Sport, dtype: int64"
      ]
     },
     "execution_count": 96,
     "metadata": {},
     "output_type": "execute_result"
    }
   ],
   "source": [
    "Sport_high_age = df.Sport[df.Age >= 50].value_counts().head(5)\n",
    "Sport_high_age"
   ]
  },
  {
   "cell_type": "markdown",
   "id": "9732d04b",
   "metadata": {},
   "source": [
    "Create a bar chart of `Sport_high_age`"
   ]
  },
  {
   "cell_type": "code",
   "execution_count": 97,
   "id": "00d781f1",
   "metadata": {},
   "outputs": [
    {
     "data": {
      "image/png": "[encoded data removed]",
      "text/plain": [
       "<Figure size 864x432 with 1 Axes>"
      ]
     },
     "metadata": {
      "needs_background": "light"
     },
     "output_type": "display_data"
    }
   ],
   "source": [
    "plt.figure(figsize=(12, 6))\n",
    "sns.barplot(x = Sport_high_age.index, y = Sport_high_age)\n",
    "plt.xlabel(None)\n",
    "plt.ylabel('Number of Medalists')\n",
    "plt.show()"
   ]
  },
  {
   "cell_type": "markdown",
   "id": "1a885551",
   "metadata": {},
   "source": [
    "***Comments:*** Old medalists dominate in *Art Competitions* and *Shooting*"
   ]
  },
  {
   "cell_type": "markdown",
   "id": "81277fb8",
   "metadata": {},
   "source": [
    "***Note:*** The same set of questions for `Weight` and `Height` can be answered in the same way as those for `Age` so readers can feel free to skip to **Question 3.10**"
   ]
  },
  {
   "cell_type": "markdown",
   "id": "61ad8ac1",
   "metadata": {},
   "source": [
    "#### 3.4. In which weight range did athletes win medals?"
   ]
  },
  {
   "cell_type": "markdown",
   "id": "9355d565",
   "metadata": {},
   "source": [
    "Have a look at the summary of `Weight` column of medalists with `Weight` larger than `0` (which is placeholder for previously NULL values) "
   ]
  },
  {
   "cell_type": "code",
   "execution_count": 100,
   "id": "e6130336",
   "metadata": {},
   "outputs": [
    {
     "data": {
      "text/plain": [
       "count    30456.000000\n",
       "mean        73.770680\n",
       "std         15.016025\n",
       "min         28.000000\n",
       "25%         63.000000\n",
       "50%         73.000000\n",
       "75%         83.000000\n",
       "max        182.000000\n",
       "Name: Weight, dtype: float64"
      ]
     },
     "execution_count": 100,
     "metadata": {},
     "output_type": "execute_result"
    }
   ],
   "source": [
    "# Look at the summary of 'Weight' column of medalists with Weight > 0 (which is placeholder for previously NULL values) \n",
    "df.Weight[(df.Weight > 0) & (df.Medal != 'None')].describe()"
   ]
  },
  {
   "cell_type": "markdown",
   "id": "577e7d07",
   "metadata": {},
   "source": [
    "Create a histogram for `Weight` column of medalists"
   ]
  },
  {
   "cell_type": "code",
   "execution_count": 101,
   "id": "3fbf1c7c",
   "metadata": {},
   "outputs": [
    {
     "data": {
      "image/png": "[encoded data removed]",
      "text/plain": [
       "<Figure size 864x432 with 1 Axes>"
      ]
     },
     "metadata": {
      "needs_background": "light"
     },
     "output_type": "display_data"
    }
   ],
   "source": [
    "plt.figure(figsize=(12, 6))\n",
    "counts, edges, plot = plt.hist(df.Weight[(df.Weight > 0) & (df.Medal != 'None')], \n",
    "                               bins = np.arange(25,185,5), \n",
    "                               color='darkblue')\n",
    "plt.xlabel('Weight in KG')\n",
    "plt.ylabel('Number of Participants')\n",
    "plt.show()"
   ]
  },
  {
   "cell_type": "markdown",
   "id": "2a1316e8",
   "metadata": {},
   "source": [
    "Get the bin with most participants"
   ]
  },
  {
   "cell_type": "code",
   "execution_count": 102,
   "id": "e1b66f7f",
   "metadata": {},
   "outputs": [
    {
     "data": {
      "text/plain": [
       "array([70])"
      ]
     },
     "execution_count": 102,
     "metadata": {},
     "output_type": "execute_result"
    }
   ],
   "source": [
    "edges[:len(edges)-1][counts == counts.max()]"
   ]
  },
  {
   "cell_type": "markdown",
   "id": "c4e70908",
   "metadata": {},
   "source": [
    "***Comments:***\n",
    "1. 50% of the medalists are in weight range of 63-83kg\n",
    "2. The weight bin of 70-75kg has the highest number of medalists"
   ]
  },
  {
   "cell_type": "markdown",
   "id": "938a9728",
   "metadata": {},
   "source": [
    "#### 3.5. What sports did athletes at low-extreme of weight range win?"
   ]
  },
  {
   "cell_type": "markdown",
   "id": "6c285233",
   "metadata": {},
   "source": [
    "Extract a table `Sport_light_weight` with data on Top 5 sports in which most light participants won medals  \n",
    "***Note:*** Participants are considered light when their weight is smaller than 40kg in this study"
   ]
  },
  {
   "cell_type": "code",
   "execution_count": 105,
   "id": "88dafbd6",
   "metadata": {},
   "outputs": [
    {
     "data": {
      "text/plain": [
       "Gymnastics             974\n",
       "Rhythmic Gymnastics     22\n",
       "Athletics               15\n",
       "Figure Skating          12\n",
       "Diving                   9\n",
       "Name: Sport, dtype: int64"
      ]
     },
     "execution_count": 105,
     "metadata": {},
     "output_type": "execute_result"
    }
   ],
   "source": [
    "Sport_light_weight = df.Sport[(df.Weight < 40) & (df.Weight > 0)].value_counts().head(5)\n",
    "Sport_light_weight"
   ]
  },
  {
   "cell_type": "markdown",
   "id": "04356e83",
   "metadata": {},
   "source": [
    "Create a bar chart of `Sport_light_weight`"
   ]
  },
  {
   "cell_type": "code",
   "execution_count": 106,
   "id": "d1dc4cb7",
   "metadata": {},
   "outputs": [
    {
     "data": {
      "image/png": "[encoded data removed]",
      "text/plain": [
       "<Figure size 864x432 with 1 Axes>"
      ]
     },
     "metadata": {
      "needs_background": "light"
     },
     "output_type": "display_data"
    }
   ],
   "source": [
    "plt.figure(figsize=(12, 6))\n",
    "sns.barplot(x = Sport_light_weight.index, y = Sport_light_weight)\n",
    "plt.xlabel(None)\n",
    "plt.ylabel('Number of Medalists')\n",
    "plt.show()"
   ]
  },
  {
   "cell_type": "markdown",
   "id": "dded468d",
   "metadata": {},
   "source": [
    "***Comments:*** Light-weight medalists dominate in *Gymnastics*"
   ]
  },
  {
   "cell_type": "markdown",
   "id": "7958c6a6",
   "metadata": {},
   "source": [
    "#### 3.6. What sports did athletes at high-extreme of weight range win?"
   ]
  },
  {
   "cell_type": "markdown",
   "id": "910dba02",
   "metadata": {},
   "source": [
    "Extract a table `Sport_heavy_weight` with data on Top 5 sports in which most heavy participants won medals  \n",
    "***Note:*** Participants are considered heavy when their weight is greater than 130 in this study"
   ]
  },
  {
   "cell_type": "code",
   "execution_count": 109,
   "id": "7de3fa0e",
   "metadata": {},
   "outputs": [
    {
     "data": {
      "text/plain": [
       "Athletics        186\n",
       "Weightlifting    159\n",
       "Judo             128\n",
       "Wrestling        100\n",
       "Basketball        26\n",
       "Name: Sport, dtype: int64"
      ]
     },
     "execution_count": 109,
     "metadata": {},
     "output_type": "execute_result"
    }
   ],
   "source": [
    "Sport_heavy_weight = df.Sport[df.Weight >= 130].value_counts().head(5)\n",
    "Sport_heavy_weight"
   ]
  },
  {
   "cell_type": "markdown",
   "id": "dda671c6",
   "metadata": {},
   "source": [
    "Create a bar chart of `Sport_heavy_weight`"
   ]
  },
  {
   "cell_type": "code",
   "execution_count": 110,
   "id": "5279ed30",
   "metadata": {},
   "outputs": [
    {
     "data": {
      "image/png": "[encoded data removed]",
      "text/plain": [
       "<Figure size 864x432 with 1 Axes>"
      ]
     },
     "metadata": {
      "needs_background": "light"
     },
     "output_type": "display_data"
    }
   ],
   "source": [
    "plt.figure(figsize=(12, 6))\n",
    "sns.barplot(x = Sport_heavy_weight.index, y = Sport_heavy_weight)\n",
    "plt.xlabel(None)\n",
    "plt.ylabel('Number of Medalists')\n",
    "plt.show()"
   ]
  },
  {
   "cell_type": "markdown",
   "id": "dc246a5b",
   "metadata": {},
   "source": [
    "***Comments:*** Heavy-weight medalists dominate in *Athletics, Weightlifting, Judo* and *Wrestling*"
   ]
  },
  {
   "cell_type": "markdown",
   "id": "7859a3c3",
   "metadata": {},
   "source": [
    "#### 3.7. In which height range did athletes win medals?"
   ]
  },
  {
   "cell_type": "markdown",
   "id": "ec16127b",
   "metadata": {},
   "source": [
    "Have a look at the summary of `Height` column of medalists with `Height` larger than `0` (which is placeholder for previously NULL values) "
   ]
  },
  {
   "cell_type": "code",
   "execution_count": 113,
   "id": "9d216dc9",
   "metadata": {},
   "outputs": [
    {
     "data": {
      "text/plain": [
       "count    31072.000000\n",
       "mean       177.554197\n",
       "std         10.893723\n",
       "min        136.000000\n",
       "25%        170.000000\n",
       "50%        178.000000\n",
       "75%        185.000000\n",
       "max        223.000000\n",
       "Name: Height, dtype: float64"
      ]
     },
     "execution_count": 113,
     "metadata": {},
     "output_type": "execute_result"
    }
   ],
   "source": [
    "# Look at the summary of 'Height' column of medalists with Height > 0 (which is placeholder for previously NULL values) \n",
    "df.Height[(df.Height > 0) & (df.Medal != 'None')].describe()"
   ]
  },
  {
   "cell_type": "markdown",
   "id": "45fd4523",
   "metadata": {},
   "source": [
    "Create a histogram for `Height` column of medalists"
   ]
  },
  {
   "cell_type": "code",
   "execution_count": 114,
   "id": "2497cecf",
   "metadata": {},
   "outputs": [
    {
     "data": {
      "image/png": "[encoded data removed]",
      "text/plain": [
       "<Figure size 864x432 with 1 Axes>"
      ]
     },
     "metadata": {
      "needs_background": "light"
     },
     "output_type": "display_data"
    }
   ],
   "source": [
    "plt.figure(figsize=(12, 6))\n",
    "counts, edges, plot = plt.hist(df.Height[(df.Height > 0) & (df.Medal != 'None')], \n",
    "                               bins = np.arange(130,230,5), \n",
    "                               color='darkgreen')\n",
    "plt.xlabel('Height in CM')\n",
    "plt.ylabel('Number of Participants')\n",
    "plt.show()"
   ]
  },
  {
   "cell_type": "markdown",
   "id": "791ae486",
   "metadata": {},
   "source": [
    "Get the bin with most participants"
   ]
  },
  {
   "cell_type": "code",
   "execution_count": 115,
   "id": "d659aee4",
   "metadata": {},
   "outputs": [
    {
     "data": {
      "text/plain": [
       "array([180])"
      ]
     },
     "execution_count": 115,
     "metadata": {},
     "output_type": "execute_result"
    }
   ],
   "source": [
    "edges[:len(edges)-1][counts == counts.max()]"
   ]
  },
  {
   "cell_type": "markdown",
   "id": "40193b61",
   "metadata": {},
   "source": [
    "***Comments:***\n",
    "1. 50% of the medalists are in height range of 170-185cm\n",
    "2. The height bin of 180-185cm has the highest number of medalists"
   ]
  },
  {
   "cell_type": "markdown",
   "id": "51632aa7",
   "metadata": {},
   "source": [
    "#### 3.8. What sports did athletes at low-extreme of height range win?"
   ]
  },
  {
   "cell_type": "markdown",
   "id": "6edf0eb5",
   "metadata": {},
   "source": [
    "Extract a table `Sport_low_height` with data on Top 5 sports in which most short participants won medals  \n",
    "***Note:*** Participants are considered short when their height is smaller than 150cm in this study"
   ]
  },
  {
   "cell_type": "code",
   "execution_count": 118,
   "id": "f0e8840e",
   "metadata": {},
   "outputs": [
    {
     "data": {
      "text/plain": [
       "Gymnastics        1203\n",
       "Weightlifting       58\n",
       "Athletics           34\n",
       "Diving              26\n",
       "Figure Skating      26\n",
       "Name: Sport, dtype: int64"
      ]
     },
     "execution_count": 118,
     "metadata": {},
     "output_type": "execute_result"
    }
   ],
   "source": [
    "Sport_low_height = df.Sport[(df.Height < 150) & (df.Height > 0)].value_counts().head(5)\n",
    "Sport_low_height"
   ]
  },
  {
   "cell_type": "markdown",
   "id": "5c79a311",
   "metadata": {},
   "source": [
    "Create a bar chart of `Sport_low_height`"
   ]
  },
  {
   "cell_type": "code",
   "execution_count": 119,
   "id": "3b033621",
   "metadata": {},
   "outputs": [
    {
     "data": {
      "image/png": "[encoded data removed]",
      "text/plain": [
       "<Figure size 864x432 with 1 Axes>"
      ]
     },
     "metadata": {
      "needs_background": "light"
     },
     "output_type": "display_data"
    }
   ],
   "source": [
    "plt.figure(figsize=(12, 6))\n",
    "sns.barplot(x = Sport_low_height.index, y = Sport_low_height)\n",
    "plt.xlabel(None)\n",
    "plt.ylabel('Number of Medalists')\n",
    "plt.show()"
   ]
  },
  {
   "cell_type": "markdown",
   "id": "15935f2b",
   "metadata": {},
   "source": [
    "***Comments:*** Low-height medalists dominate in *Gymnastics*"
   ]
  },
  {
   "cell_type": "markdown",
   "id": "f48a5951",
   "metadata": {},
   "source": [
    "#### 3.9. What sports did athletes at high-extreme of height range win?"
   ]
  },
  {
   "cell_type": "markdown",
   "id": "8ecefaa8",
   "metadata": {},
   "source": [
    "Extract a table `Sport_high_height` with data on Top 5 sports in which most high participants won medals  \n",
    "***Note:*** Participants are considered high when their height is greater than 200cm in this study"
   ]
  },
  {
   "cell_type": "code",
   "execution_count": 122,
   "id": "9c61ee6b",
   "metadata": {},
   "outputs": [
    {
     "data": {
      "text/plain": [
       "Basketball    803\n",
       "Volleyball    325\n",
       "Swimming      158\n",
       "Rowing        156\n",
       "Athletics     131\n",
       "Name: Sport, dtype: int64"
      ]
     },
     "execution_count": 122,
     "metadata": {},
     "output_type": "execute_result"
    }
   ],
   "source": [
    "Sport_high_height = df.Sport[df.Height > 200].value_counts().head(5)\n",
    "Sport_high_height"
   ]
  },
  {
   "cell_type": "markdown",
   "id": "53ad2a24",
   "metadata": {},
   "source": [
    "Create a bar chart of `Sport_high_height`"
   ]
  },
  {
   "cell_type": "code",
   "execution_count": 123,
   "id": "f39878ce",
   "metadata": {},
   "outputs": [
    {
     "data": {
      "image/png": "[encoded data removed]",
      "text/plain": [
       "<Figure size 864x432 with 1 Axes>"
      ]
     },
     "metadata": {
      "needs_background": "light"
     },
     "output_type": "display_data"
    }
   ],
   "source": [
    "plt.figure(figsize=(12, 6))\n",
    "sns.barplot(x = Sport_high_height.index, y = Sport_high_height)\n",
    "plt.xlabel(None)\n",
    "plt.ylabel('Number of Medalists')\n",
    "plt.show()"
   ]
  },
  {
   "cell_type": "markdown",
   "id": "6cfa3c53",
   "metadata": {},
   "source": [
    "***Comments:*** High-height medalists dominate in *Basketball* and *Volleyball*"
   ]
  },
  {
   "cell_type": "markdown",
   "id": "a10481aa",
   "metadata": {},
   "source": [
    "#### 3.10. Relationship of Weight and Height of medalists"
   ]
  },
  {
   "cell_type": "markdown",
   "id": "96207dd7",
   "metadata": {},
   "source": [
    "Create a scatter plot using `Height` on x-axis and `Weight` on y-axis and `Sex` as colors of points to have a sense of the relationship between `Weight` and `Height` of medalists  "
   ]
  },
  {
   "cell_type": "code",
   "execution_count": 126,
   "id": "7233efb4",
   "metadata": {},
   "outputs": [
    {
     "data": {
      "image/png": "[encoded data removed]",
      "text/plain": [
       "<Figure size 864x432 with 1 Axes>"
      ]
     },
     "metadata": {
      "needs_background": "light"
     },
     "output_type": "display_data"
    }
   ],
   "source": [
    "cond = (df.Height > 0) & (df.Weight > 0) & (df.Age > 0) & (df.Medal != 'None')\n",
    "plt.figure(figsize=(12, 6))\n",
    "sns.scatterplot(x = df.Height[cond],\n",
    "                y = df.Weight[cond],\n",
    "                hue = df.Sex[cond])\n",
    "plt.show()"
   ]
  },
  {
   "cell_type": "markdown",
   "id": "99f580c2",
   "metadata": {},
   "source": [
    "***Comment:***\n",
    "1. There is a positive linear correlation between `Weight` and `Height` of medalists\n",
    "2. `Sex` also has an influence on `Weight` because as can be seen from the plot, there is a obvious pattern of colors determined by `Sex`"
   ]
  },
  {
   "cell_type": "markdown",
   "id": "81ef0a17",
   "metadata": {},
   "source": [
    "### 4. Questions related to regions and number of events that regions participated in\n",
    "4.1. Which region partcipated in highest number of events?  \n",
    "4.2. Relationship between number of events and number of medals"
   ]
  },
  {
   "cell_type": "markdown",
   "id": "bcfa05cd",
   "metadata": {},
   "source": [
    "***Note:*** Both Winter and Summer events are taken into consideration under these questions"
   ]
  },
  {
   "cell_type": "markdown",
   "id": "725fa617",
   "metadata": {},
   "source": [
    "#### 4.1. Which region partcipated in highest number of events?"
   ]
  },
  {
   "cell_type": "markdown",
   "id": "b1757c02",
   "metadata": {},
   "source": [
    "Extract a table `df_q41` from `df`, which has 2 columns:\n",
    "1. Name of a region\n",
    "2. The number of events in which the region participated "
   ]
  },
  {
   "cell_type": "code",
   "execution_count": 130,
   "id": "ff6bd780",
   "metadata": {},
   "outputs": [],
   "source": [
    "df_q41 = sqldf('''\n",
    "    SELECT region, COUNT(Event) AS Number_of_Events\n",
    "    FROM df\n",
    "    GROUP BY region\n",
    "    ORDER BY COUNT(Event) DESC\n",
    "''')"
   ]
  },
  {
   "cell_type": "markdown",
   "id": "cbf42c3d",
   "metadata": {},
   "source": [
    "Have a look at the first 5 rows of `df_q41`"
   ]
  },
  {
   "cell_type": "code",
   "execution_count": 131,
   "id": "88623d00",
   "metadata": {},
   "outputs": [
    {
     "data": {
      "text/html": [
       "<div>\n",
       "<style scoped>\n",
       "    .dataframe tbody tr th:only-of-type {\n",
       "        vertical-align: middle;\n",
       "    }\n",
       "\n",
       "    .dataframe tbody tr th {\n",
       "        vertical-align: top;\n",
       "    }\n",
       "\n",
       "    .dataframe thead th {\n",
       "        text-align: right;\n",
       "    }\n",
       "</style>\n",
       "<table border=\"1\" class=\"dataframe\">\n",
       "  <thead>\n",
       "    <tr style=\"text-align: right;\">\n",
       "      <th></th>\n",
       "      <th>region</th>\n",
       "      <th>Number_of_Events</th>\n",
       "    </tr>\n",
       "  </thead>\n",
       "  <tbody>\n",
       "    <tr>\n",
       "      <th>0</th>\n",
       "      <td>USA</td>\n",
       "      <td>18604</td>\n",
       "    </tr>\n",
       "    <tr>\n",
       "      <th>1</th>\n",
       "      <td>Germany</td>\n",
       "      <td>15787</td>\n",
       "    </tr>\n",
       "    <tr>\n",
       "      <th>2</th>\n",
       "      <td>France</td>\n",
       "      <td>12551</td>\n",
       "    </tr>\n",
       "    <tr>\n",
       "      <th>3</th>\n",
       "      <td>UK</td>\n",
       "      <td>12115</td>\n",
       "    </tr>\n",
       "    <tr>\n",
       "      <th>4</th>\n",
       "      <td>Russia</td>\n",
       "      <td>11692</td>\n",
       "    </tr>\n",
       "  </tbody>\n",
       "</table>\n",
       "</div>"
      ],
      "text/plain": [
       "    region  Number_of_Events\n",
       "0      USA             18604\n",
       "1  Germany             15787\n",
       "2   France             12551\n",
       "3       UK             12115\n",
       "4   Russia             11692"
      ]
     },
     "execution_count": 131,
     "metadata": {},
     "output_type": "execute_result"
    }
   ],
   "source": [
    "df_q41.head()"
   ]
  },
  {
   "cell_type": "markdown",
   "id": "fe2d82e3",
   "metadata": {},
   "source": [
    "Create a bar chart using the first 5 rows of `df_q41`"
   ]
  },
  {
   "cell_type": "code",
   "execution_count": 132,
   "id": "97f42e6f",
   "metadata": {},
   "outputs": [
    {
     "data": {
      "image/png": "[encoded data removed]",
      "text/plain": [
       "<Figure size 864x432 with 1 Axes>"
      ]
     },
     "metadata": {
      "needs_background": "light"
     },
     "output_type": "display_data"
    }
   ],
   "source": [
    "plt.figure(figsize=(12, 6))\n",
    "sns.barplot(x=df_q41.head().region, y=df_q41.head().Number_of_Events)\n",
    "plt.xlabel(None)\n",
    "plt.ylabel('Number of Events')\n",
    "plt.show()"
   ]
  },
  {
   "cell_type": "markdown",
   "id": "03bebf51",
   "metadata": {},
   "source": [
    "***Comments:*** Top 5 regions with the highest number of events are *USA, Germany, France, UK* and *Russia*"
   ]
  },
  {
   "cell_type": "markdown",
   "id": "f8a4837f",
   "metadata": {},
   "source": [
    "#### 4.2. Relationship between number of events and number of medals"
   ]
  },
  {
   "cell_type": "markdown",
   "id": "6c92d75a",
   "metadata": {},
   "source": [
    "Extract a table `df_q42` from `df`, which has 2 columns:\n",
    "1. Name of a region\n",
    "2. The number of medals won by the region"
   ]
  },
  {
   "cell_type": "code",
   "execution_count": 135,
   "id": "41867148",
   "metadata": {},
   "outputs": [],
   "source": [
    "df_q42 = sqldf('''\n",
    "    SELECT region, COUNT(Event) AS Number_of_Medals\n",
    "    FROM df\n",
    "    WHERE Medal <> 'None'\n",
    "    GROUP BY region\n",
    "    ORDER BY COUNT(Event) DESC\n",
    "''')"
   ]
  },
  {
   "cell_type": "markdown",
   "id": "9c0c4498",
   "metadata": {},
   "source": [
    "Update `df_q42` by merging `df_q41` into `df_q42` using `region` column as the key"
   ]
  },
  {
   "cell_type": "code",
   "execution_count": null,
   "id": "a7eceead",
   "metadata": {},
   "outputs": [],
   "source": [
    "df_q42 = pd.merge(df_q41, df_q42, on='region', how='left')"
   ]
  },
  {
   "cell_type": "markdown",
   "id": "5958c6c1",
   "metadata": {},
   "source": [
    "Have a look at the first 5 rows of `df_q42`"
   ]
  },
  {
   "cell_type": "code",
   "execution_count": 136,
   "id": "dee0d4cb",
   "metadata": {},
   "outputs": [
    {
     "data": {
      "text/html": [
       "<div>\n",
       "<style scoped>\n",
       "    .dataframe tbody tr th:only-of-type {\n",
       "        vertical-align: middle;\n",
       "    }\n",
       "\n",
       "    .dataframe tbody tr th {\n",
       "        vertical-align: top;\n",
       "    }\n",
       "\n",
       "    .dataframe thead th {\n",
       "        text-align: right;\n",
       "    }\n",
       "</style>\n",
       "<table border=\"1\" class=\"dataframe\">\n",
       "  <thead>\n",
       "    <tr style=\"text-align: right;\">\n",
       "      <th></th>\n",
       "      <th>region</th>\n",
       "      <th>Number_of_Events</th>\n",
       "      <th>Number_of_Medals</th>\n",
       "    </tr>\n",
       "  </thead>\n",
       "  <tbody>\n",
       "    <tr>\n",
       "      <th>0</th>\n",
       "      <td>USA</td>\n",
       "      <td>18604</td>\n",
       "      <td>5637.0</td>\n",
       "    </tr>\n",
       "    <tr>\n",
       "      <th>1</th>\n",
       "      <td>Germany</td>\n",
       "      <td>15787</td>\n",
       "      <td>3756.0</td>\n",
       "    </tr>\n",
       "    <tr>\n",
       "      <th>2</th>\n",
       "      <td>France</td>\n",
       "      <td>12551</td>\n",
       "      <td>1767.0</td>\n",
       "    </tr>\n",
       "    <tr>\n",
       "      <th>3</th>\n",
       "      <td>UK</td>\n",
       "      <td>12115</td>\n",
       "      <td>2067.0</td>\n",
       "    </tr>\n",
       "    <tr>\n",
       "      <th>4</th>\n",
       "      <td>Russia</td>\n",
       "      <td>11692</td>\n",
       "      <td>3947.0</td>\n",
       "    </tr>\n",
       "  </tbody>\n",
       "</table>\n",
       "</div>"
      ],
      "text/plain": [
       "    region  Number_of_Events  Number_of_Medals\n",
       "0      USA             18604            5637.0\n",
       "1  Germany             15787            3756.0\n",
       "2   France             12551            1767.0\n",
       "3       UK             12115            2067.0\n",
       "4   Russia             11692            3947.0"
      ]
     },
     "execution_count": 136,
     "metadata": {},
     "output_type": "execute_result"
    }
   ],
   "source": [
    "df_q42.head()"
   ]
  },
  {
   "cell_type": "markdown",
   "id": "d8eeddec",
   "metadata": {},
   "source": [
    "Create a scatter plot using `df_q42` with `Number_of_Events` on x-axis and `Number_of_Medal` on y_axis"
   ]
  },
  {
   "cell_type": "code",
   "execution_count": 137,
   "id": "b774c4cc",
   "metadata": {},
   "outputs": [
    {
     "data": {
      "image/png": "[encoded data removed]",
      "text/plain": [
       "<Figure size 864x432 with 1 Axes>"
      ]
     },
     "metadata": {
      "needs_background": "light"
     },
     "output_type": "display_data"
    }
   ],
   "source": [
    "plt.figure(figsize=(12, 6))\n",
    "sns.scatterplot(x=df_q42.Number_of_Events, y=df_q42.Number_of_Medals)\n",
    "plt.xlabel('Number of Events')\n",
    "plt.ylabel('Number of Medals')\n",
    "plt.show()"
   ]
  },
  {
   "cell_type": "markdown",
   "id": "f139ce75",
   "metadata": {},
   "source": [
    "***Comments:*** \n",
    "1. There is a positive correlation between Number of Events and Number of Medals\n",
    "2. There seems to be a break in the linear model at `Number_of_Events` of 2500 so a spline linear model can be built using this breakpoint"
   ]
  },
  {
   "cell_type": "markdown",
   "id": "70064ceb",
   "metadata": {},
   "source": [
    "### 5. Questions related to genders and number of events that athletes participated in\n",
    "5.1. Is there any change in gender trend?  \n",
    "5.2. What sport were females/males dominant in?"
   ]
  },
  {
   "cell_type": "markdown",
   "id": "9170fa33",
   "metadata": {},
   "source": [
    "#### 5.1. Is there any change in gender trend?"
   ]
  },
  {
   "cell_type": "markdown",
   "id": "4a2b716f",
   "metadata": {},
   "source": [
    "Extract two table `df_q51_M` and `df_q52_F` from df, each of which has 2 columns:\n",
    "1. Year of the event\n",
    "2. The number of male or female participants in that year "
   ]
  },
  {
   "cell_type": "code",
   "execution_count": 141,
   "id": "359421a1",
   "metadata": {},
   "outputs": [],
   "source": [
    "df_q51_M = sqldf('''\n",
    "    SELECT Year, COUNT(DISTINCT ID) AS Male\n",
    "    FROM df\n",
    "    WHERE (Season = 'Summer') AND (Sex = 'M')\n",
    "    GROUP BY Year\n",
    "    ORDER BY Year\n",
    "''')\n",
    "df_q51_F = sqldf('''\n",
    "    SELECT Year, COUNT(DISTINCT ID) AS Female\n",
    "    FROM df\n",
    "    WHERE (Season = 'Summer') AND (Sex = 'F')\n",
    "    GROUP BY Year\n",
    "    ORDER BY Year\n",
    "''')"
   ]
  },
  {
   "cell_type": "markdown",
   "id": "60a6408b",
   "metadata": {},
   "source": [
    "Merge `df_q51_M` and `df_q51_F` to get `df_q51` using `Year` column as the key"
   ]
  },
  {
   "cell_type": "code",
   "execution_count": null,
   "id": "7b3f1881",
   "metadata": {},
   "outputs": [],
   "source": [
    "df_q51 = pd.merge(df_q51_M, df_q51_F, on='Year', how='left')"
   ]
  },
  {
   "cell_type": "markdown",
   "id": "c2021fdd",
   "metadata": {},
   "source": [
    "Check data type and NULL values of `df_q51`"
   ]
  },
  {
   "cell_type": "code",
   "execution_count": 142,
   "id": "b9a668d4",
   "metadata": {},
   "outputs": [
    {
     "name": "stdout",
     "output_type": "stream",
     "text": [
      "<class 'pandas.core.frame.DataFrame'>\n",
      "Int64Index: 29 entries, 0 to 28\n",
      "Data columns (total 3 columns):\n",
      " #   Column  Non-Null Count  Dtype  \n",
      "---  ------  --------------  -----  \n",
      " 0   Year    29 non-null     int64  \n",
      " 1   Male    29 non-null     int64  \n",
      " 2   Female  28 non-null     float64\n",
      "dtypes: float64(1), int64(2)\n",
      "memory usage: 928.0 bytes\n"
     ]
    }
   ],
   "source": [
    "df_q51.info()"
   ]
  },
  {
   "cell_type": "markdown",
   "id": "070f5487",
   "metadata": {},
   "source": [
    "***Comment:***\n",
    "1. Data type: Data type of `Female` can be changed to `int`\n",
    "2. NULL values: NULL values of `Female` can be replaced by `0`\n",
    "3. Duplicated values: No problem"
   ]
  },
  {
   "cell_type": "markdown",
   "id": "b9115159",
   "metadata": {},
   "source": [
    "Process `df_q51`"
   ]
  },
  {
   "cell_type": "code",
   "execution_count": 144,
   "id": "ce68d801",
   "metadata": {},
   "outputs": [],
   "source": [
    "df_q51.Female = df_q51.Female.fillna(0).astype('int')"
   ]
  },
  {
   "cell_type": "markdown",
   "id": "6f0dbd83",
   "metadata": {},
   "source": [
    "Add 2 columns to `df_q51`, which are\n",
    "1. `Total` column which is the sum of `Male` and `Female` columns\n",
    "2. `Percent_of_Female` column which is the percent of `Female` participants in a certain year"
   ]
  },
  {
   "cell_type": "code",
   "execution_count": 145,
   "id": "ff3431db",
   "metadata": {},
   "outputs": [],
   "source": [
    "df_q51['Total'] = df_q51.Female + df_q51.Male\n",
    "df_q51['Percent_of_Female'] = df_q51.Female/df_q51.Total*100"
   ]
  },
  {
   "cell_type": "markdown",
   "id": "82eda8ff",
   "metadata": {},
   "source": [
    "Plot a line chart to show the trend of contribution of female participants throughout the period of 1896-2016"
   ]
  },
  {
   "cell_type": "code",
   "execution_count": 146,
   "id": "494b267b",
   "metadata": {},
   "outputs": [
    {
     "data": {
      "image/png": "[encoded data removed]",
      "text/plain": [
       "<Figure size 864x432 with 1 Axes>"
      ]
     },
     "metadata": {
      "needs_background": "light"
     },
     "output_type": "display_data"
    }
   ],
   "source": [
    "plt.figure(figsize=(12, 6))\n",
    "sns.lineplot(x=df_q51.Year, y=df_q51.Percent_of_Female)\n",
    "plt.xlabel('Year')\n",
    "plt.ylabel('Contribution of Female Athletes in %')\n",
    "plt.ylim([0, 50])\n",
    "plt.show()"
   ]
  },
  {
   "cell_type": "markdown",
   "id": "c08e2e6b",
   "metadata": {},
   "source": [
    "***Comments:*** There has been an increase trend in contribution of female athletes"
   ]
  },
  {
   "cell_type": "markdown",
   "id": "889d486a",
   "metadata": {},
   "source": [
    "Plot a stacked area chart to show the trend of the total number of the participants and their breakdown in terms of gender throughout the period of 1896-2016 "
   ]
  },
  {
   "cell_type": "code",
   "execution_count": 148,
   "id": "85ee1b9e",
   "metadata": {},
   "outputs": [
    {
     "data": {
      "image/png": "[encoded data removed]",
      "text/plain": [
       "<Figure size 864x432 with 1 Axes>"
      ]
     },
     "metadata": {
      "needs_background": "light"
     },
     "output_type": "display_data"
    }
   ],
   "source": [
    "df_q51[['Year', 'Male', 'Female']].plot.area(x='Year', figsize=(12, 6), color=['darkred','darkblue'])\n",
    "plt.ylabel('Number of Participants')\n",
    "plt.show()"
   ]
  },
  {
   "cell_type": "markdown",
   "id": "ea04d1bd",
   "metadata": {},
   "source": [
    "***Comments:*** \n",
    "1. There has been an increasing trend in total number of athletes \n",
    "2. Once again, there has been an increasing trend in contribution of of female athletes"
   ]
  },
  {
   "cell_type": "markdown",
   "id": "c9620934",
   "metadata": {},
   "source": [
    "#### 5.2. What sport were females/males dominant in?"
   ]
  },
  {
   "cell_type": "markdown",
   "id": "98396544",
   "metadata": {},
   "source": [
    "Extract two tables `df_q52_F` and `df_q52_M` from `df`, each of which has 2 columns:\n",
    "1. Type of sport which females or males participated in\n",
    "2. The number of females or males participated in that type of sport"
   ]
  },
  {
   "cell_type": "code",
   "execution_count": 151,
   "id": "9695875f",
   "metadata": {},
   "outputs": [],
   "source": [
    "df_q52_F = sqldf('''\n",
    "    SELECT Sport, COUNT(Sport) AS Counts\n",
    "    FROM df\n",
    "    WHERE (Season = 'Summer') AND (Sex = 'F')\n",
    "    GROUP BY Sport\n",
    "    ORDER By Counts DESC\n",
    "    LIMIT 5\n",
    "''')\n",
    "df_q52_M = sqldf('''\n",
    "    SELECT Sport, COUNT(Sport) AS Counts\n",
    "    FROM df\n",
    "    WHERE (Season = 'Summer') AND (Sex = 'M')\n",
    "    GROUP BY Sport\n",
    "    ORDER By Counts DESC\n",
    "    LIMIT 5\n",
    "''')"
   ]
  },
  {
   "cell_type": "markdown",
   "id": "78a4e903",
   "metadata": {},
   "source": [
    "Have a look at top 5 sports in `df_q52_M` and `df_q52_F`"
   ]
  },
  {
   "cell_type": "code",
   "execution_count": 152,
   "id": "4ff52f73",
   "metadata": {},
   "outputs": [
    {
     "data": {
      "text/html": [
       "<div>\n",
       "<style scoped>\n",
       "    .dataframe tbody tr th:only-of-type {\n",
       "        vertical-align: middle;\n",
       "    }\n",
       "\n",
       "    .dataframe tbody tr th {\n",
       "        vertical-align: top;\n",
       "    }\n",
       "\n",
       "    .dataframe thead th {\n",
       "        text-align: right;\n",
       "    }\n",
       "</style>\n",
       "<table border=\"1\" class=\"dataframe\">\n",
       "  <thead>\n",
       "    <tr style=\"text-align: right;\">\n",
       "      <th></th>\n",
       "      <th>Sport</th>\n",
       "      <th>Counts</th>\n",
       "    </tr>\n",
       "  </thead>\n",
       "  <tbody>\n",
       "    <tr>\n",
       "      <th>0</th>\n",
       "      <td>Athletics</td>\n",
       "      <td>26958</td>\n",
       "    </tr>\n",
       "    <tr>\n",
       "      <th>1</th>\n",
       "      <td>Gymnastics</td>\n",
       "      <td>17578</td>\n",
       "    </tr>\n",
       "    <tr>\n",
       "      <th>2</th>\n",
       "      <td>Swimming</td>\n",
       "      <td>13345</td>\n",
       "    </tr>\n",
       "    <tr>\n",
       "      <th>3</th>\n",
       "      <td>Shooting</td>\n",
       "      <td>9724</td>\n",
       "    </tr>\n",
       "    <tr>\n",
       "      <th>4</th>\n",
       "      <td>Cycling</td>\n",
       "      <td>9433</td>\n",
       "    </tr>\n",
       "  </tbody>\n",
       "</table>\n",
       "</div>"
      ],
      "text/plain": [
       "        Sport  Counts\n",
       "0   Athletics   26958\n",
       "1  Gymnastics   17578\n",
       "2    Swimming   13345\n",
       "3    Shooting    9724\n",
       "4     Cycling    9433"
      ]
     },
     "execution_count": 152,
     "metadata": {},
     "output_type": "execute_result"
    }
   ],
   "source": [
    "df_q52_M"
   ]
  },
  {
   "cell_type": "code",
   "execution_count": 153,
   "id": "808a3b4e",
   "metadata": {},
   "outputs": [
    {
     "data": {
      "text/html": [
       "<div>\n",
       "<style scoped>\n",
       "    .dataframe tbody tr th:only-of-type {\n",
       "        vertical-align: middle;\n",
       "    }\n",
       "\n",
       "    .dataframe tbody tr th {\n",
       "        vertical-align: top;\n",
       "    }\n",
       "\n",
       "    .dataframe thead th {\n",
       "        text-align: right;\n",
       "    }\n",
       "</style>\n",
       "<table border=\"1\" class=\"dataframe\">\n",
       "  <thead>\n",
       "    <tr style=\"text-align: right;\">\n",
       "      <th></th>\n",
       "      <th>Sport</th>\n",
       "      <th>Counts</th>\n",
       "    </tr>\n",
       "  </thead>\n",
       "  <tbody>\n",
       "    <tr>\n",
       "      <th>0</th>\n",
       "      <td>Athletics</td>\n",
       "      <td>11666</td>\n",
       "    </tr>\n",
       "    <tr>\n",
       "      <th>1</th>\n",
       "      <td>Swimming</td>\n",
       "      <td>9850</td>\n",
       "    </tr>\n",
       "    <tr>\n",
       "      <th>2</th>\n",
       "      <td>Gymnastics</td>\n",
       "      <td>9129</td>\n",
       "    </tr>\n",
       "    <tr>\n",
       "      <th>3</th>\n",
       "      <td>Rowing</td>\n",
       "      <td>2193</td>\n",
       "    </tr>\n",
       "    <tr>\n",
       "      <th>4</th>\n",
       "      <td>Fencing</td>\n",
       "      <td>2000</td>\n",
       "    </tr>\n",
       "  </tbody>\n",
       "</table>\n",
       "</div>"
      ],
      "text/plain": [
       "        Sport  Counts\n",
       "0   Athletics   11666\n",
       "1    Swimming    9850\n",
       "2  Gymnastics    9129\n",
       "3      Rowing    2193\n",
       "4     Fencing    2000"
      ]
     },
     "execution_count": 153,
     "metadata": {},
     "output_type": "execute_result"
    }
   ],
   "source": [
    "df_q52_F"
   ]
  },
  {
   "cell_type": "markdown",
   "id": "156009ff",
   "metadata": {},
   "source": [
    "Plot dual bar charts to show the comparison between `df_q52_F` and `df_q52_M`"
   ]
  },
  {
   "cell_type": "code",
   "execution_count": 154,
   "id": "c0ff9db0",
   "metadata": {},
   "outputs": [
    {
     "data": {
      "image/png": "[encoded data removed]",
      "text/plain": [
       "<Figure size 864x432 with 2 Axes>"
      ]
     },
     "metadata": {
      "needs_background": "light"
     },
     "output_type": "display_data"
    }
   ],
   "source": [
    "fig, axs = plt.subplots(1, 2)\n",
    "\n",
    "axs[0].bar(x=df_q52_F.Sport, height=df_q52_F.Counts, color='darkblue')\n",
    "axs[0].tick_params(axis='x', labelrotation=45)\n",
    "axs[0].set_ylim([0, 30000])\n",
    "axs[0].set_title('Female')\n",
    "\n",
    "axs[1].bar(x=df_q52_M.Sport, height=df_q52_M.Counts, color='darkred')\n",
    "axs[1].tick_params(axis='x', labelrotation=45)\n",
    "axs[1].set_ylim([0, 30000])\n",
    "axs[1].set_title('Male')\n",
    "\n",
    "fig.suptitle('Top 5 Sports with Most Participants Regarding Gender')\n",
    "fig.set_figwidth(12)\n",
    "fig.set_figheight(6)\n",
    "\n",
    "plt.tight_layout()\n",
    "plt.show()"
   ]
  },
  {
   "cell_type": "markdown",
   "id": "1290389c",
   "metadata": {},
   "source": [
    "***Comments:*** \n",
    "1. *Athletics, Swimming* and *Gymnastics* are sports in which participants of both genders participated most\n",
    "2. The y axis limit in both plots are the same so the number of females is smaller than the number of males regarding these 3 sports"
   ]
  },
  {
   "cell_type": "code",
   "execution_count": null,
   "id": "3ecbd9ca",
   "metadata": {},
   "outputs": [],
   "source": []
  }
 ],
 "metadata": {
  "kernelspec": {
   "display_name": "Python 3 (ipykernel)",
   "language": "python",
   "name": "python3"
  },
  "language_info": {
   "codemirror_mode": {
    "name": "ipython",
    "version": 3
   },
   "file_extension": ".py",
   "mimetype": "text/x-python",
   "name": "python",
   "nbconvert_exporter": "python",
   "pygments_lexer": "ipython3",
   "version": "3.9.6"
  }
 },
 "nbformat": 4,
 "nbformat_minor": 5
}
